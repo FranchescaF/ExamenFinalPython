{
 "cells": [
  {
   "cell_type": "markdown",
   "source": "# Importar Pandas",
   "metadata": {
    "cell_id": "00000-85595879-98b7-4f84-9edc-dbcc6cd47e26",
    "deepnote_cell_type": "markdown"
   }
  },
  {
   "cell_type": "code",
   "metadata": {
    "cell_id": "00001-4d5ad7a3-84b1-41b6-bc37-17ce5ffac182",
    "deepnote_to_be_reexecuted": false,
    "source_hash": "58de4d72",
    "execution_start": 1634953795973,
    "execution_millis": 4,
    "deepnote_cell_type": "code"
   },
   "source": "#importa pandas\nimport pandas as pd",
   "execution_count": 2,
   "outputs": []
  },
  {
   "cell_type": "markdown",
   "source": "# Crear una Serie",
   "metadata": {
    "cell_id": "00002-c1fb82fc-ac94-4d12-9114-1d9c6c8b20fb",
    "deepnote_cell_type": "markdown"
   }
  },
  {
   "cell_type": "markdown",
   "source": "Explore series en python en el siguiente [link](https://pandas.pydata.org/pandas-docs/stable/user_guide/10min.html) en las primeras lineas del documento",
   "metadata": {
    "cell_id": "00003-71ad5549-9dc1-441e-bfe2-04e1a66e2771",
    "deepnote_cell_type": "markdown"
   }
  },
  {
   "cell_type": "code",
   "metadata": {
    "tags": [],
    "cell_id": "00004-f547a9b1-2801-4d36-beb9-701d5dad601e",
    "deepnote_to_be_reexecuted": false,
    "source_hash": "9284b10a",
    "execution_start": 1634951584243,
    "execution_millis": 26,
    "deepnote_cell_type": "code"
   },
   "source": "# Crea una Serie de los numeros 10, 20 and 10.\n\ns1 = pd.Series((10,20,10), index=[\"a\", \"b\", \"c\"])\ns1",
   "outputs": [
    {
     "output_type": "execute_result",
     "execution_count": 3,
     "data": {
      "text/plain": "a    10\nb    20\nc    10\ndtype: int64"
     },
     "metadata": {}
    }
   ],
   "execution_count": null
  },
  {
   "cell_type": "code",
   "metadata": {
    "tags": [],
    "cell_id": "00005-aebdb2f5-1e92-41ea-9b12-b97ebe70cf5e",
    "deepnote_to_be_reexecuted": false,
    "source_hash": "cbc3ecb9",
    "execution_start": 1634951587418,
    "execution_millis": 4,
    "deepnote_cell_type": "code"
   },
   "source": "# Crea una Serie con tres objetos: 'rojo', 'verde', 'azul'\n\ns2 = pd.Series((\"rojo\", \"verde\", \"azul\"), index=[\"a\", \"b\", \"c\"])\ns2",
   "outputs": [
    {
     "output_type": "execute_result",
     "execution_count": 4,
     "data": {
      "text/plain": "a     rojo\nb    verde\nc     azul\ndtype: object"
     },
     "metadata": {}
    }
   ],
   "execution_count": null
  },
  {
   "cell_type": "markdown",
   "source": "# Crear un Dataframe",
   "metadata": {
    "cell_id": "00006-5260197b-6e6b-44f1-a4e3-2e54b8f7119e",
    "deepnote_cell_type": "markdown"
   }
  },
  {
   "cell_type": "code",
   "metadata": {
    "tags": [],
    "cell_id": "00007-74eb8590-c49d-48cd-a35b-f4431cc87a34",
    "deepnote_to_be_reexecuted": false,
    "source_hash": "3007e6ef",
    "execution_start": 1634942977325,
    "execution_millis": 135,
    "deepnote_cell_type": "code"
   },
   "source": "# Crea un dataframe vacío llamado 'df'\ndf = pd.Dataframe()",
   "outputs": [
    {
     "output_type": "error",
     "ename": "AttributeError",
     "evalue": "module 'pandas' has no attribute 'Dataframe'",
     "traceback": [
      "\u001b[0;31m---------------------------------------------------------------------------\u001b[0m",
      "\u001b[0;31mAttributeError\u001b[0m                            Traceback (most recent call last)",
      "\u001b[0;32m<ipython-input-16-6ed0ac066ad9>\u001b[0m in \u001b[0;36m<module>\u001b[0;34m\u001b[0m\n\u001b[1;32m      1\u001b[0m \u001b[0;31m# Crea un dataframe vacío llamado 'df'\u001b[0m\u001b[0;34m\u001b[0m\u001b[0;34m\u001b[0m\u001b[0;34m\u001b[0m\u001b[0m\n\u001b[1;32m      2\u001b[0m \u001b[0md\u001b[0m \u001b[0;34m=\u001b[0m \u001b[0;34m{\u001b[0m\u001b[0;34m}\u001b[0m\u001b[0;34m\u001b[0m\u001b[0;34m\u001b[0m\u001b[0m\n\u001b[0;32m----> 3\u001b[0;31m \u001b[0mdf\u001b[0m \u001b[0;34m=\u001b[0m \u001b[0mpd\u001b[0m\u001b[0;34m.\u001b[0m\u001b[0mDataframe\u001b[0m\u001b[0;34m(\u001b[0m\u001b[0md\u001b[0m\u001b[0;34m)\u001b[0m\u001b[0;34m\u001b[0m\u001b[0;34m\u001b[0m\u001b[0m\n\u001b[0m",
      "\u001b[0;32m/shared-libs/python3.7/py/lib/python3.7/site-packages/pandas/__init__.py\u001b[0m in \u001b[0;36m__getattr__\u001b[0;34m(name)\u001b[0m\n\u001b[1;32m    242\u001b[0m         \u001b[0;32mreturn\u001b[0m \u001b[0m_SparseArray\u001b[0m\u001b[0;34m\u001b[0m\u001b[0;34m\u001b[0m\u001b[0m\n\u001b[1;32m    243\u001b[0m \u001b[0;34m\u001b[0m\u001b[0m\n\u001b[0;32m--> 244\u001b[0;31m     \u001b[0;32mraise\u001b[0m \u001b[0mAttributeError\u001b[0m\u001b[0;34m(\u001b[0m\u001b[0;34mf\"module 'pandas' has no attribute '{name}'\"\u001b[0m\u001b[0;34m)\u001b[0m\u001b[0;34m\u001b[0m\u001b[0;34m\u001b[0m\u001b[0m\n\u001b[0m\u001b[1;32m    245\u001b[0m \u001b[0;34m\u001b[0m\u001b[0m\n\u001b[1;32m    246\u001b[0m \u001b[0;34m\u001b[0m\u001b[0m\n",
      "\u001b[0;31mAttributeError\u001b[0m: module 'pandas' has no attribute 'Dataframe'"
     ]
    }
   ],
   "execution_count": null
  },
  {
   "cell_type": "code",
   "metadata": {
    "tags": [],
    "cell_id": "00008-cd6c6199-378a-4493-8343-ac2a708965d1",
    "deepnote_to_be_reexecuted": false,
    "source_hash": "3808cda9",
    "execution_start": 1634951592540,
    "execution_millis": 16,
    "deepnote_cell_type": "code"
   },
   "source": "# Crea una nueva columna en el dataframe, y asignale la primera serie que has creado\nd1 = {\n    \"one\": s1, \n}\ndf = pd.DataFrame(d1)\ndf",
   "outputs": [
    {
     "output_type": "execute_result",
     "execution_count": 5,
     "data": {
      "application/vnd.deepnote.dataframe.v2+json": {
       "row_count": 3,
       "column_count": 1,
       "columns": [
        {
         "name": "one",
         "dtype": "int64",
         "stats": {
          "unique_count": 2,
          "nan_count": 0,
          "min": "10",
          "max": "20",
          "histogram": [
           {
            "bin_start": 10,
            "bin_end": 11,
            "count": 2
           },
           {
            "bin_start": 11,
            "bin_end": 12,
            "count": 0
           },
           {
            "bin_start": 12,
            "bin_end": 13,
            "count": 0
           },
           {
            "bin_start": 13,
            "bin_end": 14,
            "count": 0
           },
           {
            "bin_start": 14,
            "bin_end": 15,
            "count": 0
           },
           {
            "bin_start": 15,
            "bin_end": 16,
            "count": 0
           },
           {
            "bin_start": 16,
            "bin_end": 17,
            "count": 0
           },
           {
            "bin_start": 17,
            "bin_end": 18,
            "count": 0
           },
           {
            "bin_start": 18,
            "bin_end": 19,
            "count": 0
           },
           {
            "bin_start": 19,
            "bin_end": 20,
            "count": 1
           }
          ]
         }
        },
        {
         "name": "_deepnote_index_column",
         "dtype": "object"
        }
       ],
       "rows_top": [
        {
         "one": 10,
         "_deepnote_index_column": "a"
        },
        {
         "one": 20,
         "_deepnote_index_column": "b"
        },
        {
         "one": 10,
         "_deepnote_index_column": "c"
        }
       ],
       "rows_bottom": null
      },
      "text/plain": "   one\na   10\nb   20\nc   10",
      "text/html": "<div>\n<style scoped>\n    .dataframe tbody tr th:only-of-type {\n        vertical-align: middle;\n    }\n\n    .dataframe tbody tr th {\n        vertical-align: top;\n    }\n\n    .dataframe thead th {\n        text-align: right;\n    }\n</style>\n<table border=\"1\" class=\"dataframe\">\n  <thead>\n    <tr style=\"text-align: right;\">\n      <th></th>\n      <th>one</th>\n    </tr>\n  </thead>\n  <tbody>\n    <tr>\n      <th>a</th>\n      <td>10</td>\n    </tr>\n    <tr>\n      <th>b</th>\n      <td>20</td>\n    </tr>\n    <tr>\n      <th>c</th>\n      <td>10</td>\n    </tr>\n  </tbody>\n</table>\n</div>"
     },
     "metadata": {}
    }
   ],
   "execution_count": null
  },
  {
   "cell_type": "code",
   "metadata": {
    "tags": [],
    "cell_id": "00009-30703c41-3310-4785-b08f-e2d1c57474cf",
    "deepnote_to_be_reexecuted": false,
    "source_hash": "a3dcd617",
    "execution_start": 1634951595671,
    "execution_millis": 4,
    "deepnote_cell_type": "code"
   },
   "source": "# Crea otra columna en el dataframe y asignale la segunda Serie que has creado\nd2 = {\n    \"one\": s1,\n    \"two\": s2,\n}\ndf = pd.DataFrame(d2)\ndf",
   "outputs": [
    {
     "output_type": "execute_result",
     "execution_count": 6,
     "data": {
      "application/vnd.deepnote.dataframe.v2+json": {
       "row_count": 3,
       "column_count": 2,
       "columns": [
        {
         "name": "one",
         "dtype": "int64",
         "stats": {
          "unique_count": 2,
          "nan_count": 0,
          "min": "10",
          "max": "20",
          "histogram": [
           {
            "bin_start": 10,
            "bin_end": 11,
            "count": 2
           },
           {
            "bin_start": 11,
            "bin_end": 12,
            "count": 0
           },
           {
            "bin_start": 12,
            "bin_end": 13,
            "count": 0
           },
           {
            "bin_start": 13,
            "bin_end": 14,
            "count": 0
           },
           {
            "bin_start": 14,
            "bin_end": 15,
            "count": 0
           },
           {
            "bin_start": 15,
            "bin_end": 16,
            "count": 0
           },
           {
            "bin_start": 16,
            "bin_end": 17,
            "count": 0
           },
           {
            "bin_start": 17,
            "bin_end": 18,
            "count": 0
           },
           {
            "bin_start": 18,
            "bin_end": 19,
            "count": 0
           },
           {
            "bin_start": 19,
            "bin_end": 20,
            "count": 1
           }
          ]
         }
        },
        {
         "name": "two",
         "dtype": "object",
         "stats": {
          "unique_count": 3,
          "nan_count": 0,
          "categories": [
           {
            "name": "rojo",
            "count": 1
           },
           {
            "name": "verde",
            "count": 1
           },
           {
            "name": "azul",
            "count": 1
           }
          ]
         }
        },
        {
         "name": "_deepnote_index_column",
         "dtype": "object"
        }
       ],
       "rows_top": [
        {
         "one": 10,
         "two": "rojo",
         "_deepnote_index_column": "a"
        },
        {
         "one": 20,
         "two": "verde",
         "_deepnote_index_column": "b"
        },
        {
         "one": 10,
         "two": "azul",
         "_deepnote_index_column": "c"
        }
       ],
       "rows_bottom": null
      },
      "text/plain": "   one    two\na   10   rojo\nb   20  verde\nc   10   azul",
      "text/html": "<div>\n<style scoped>\n    .dataframe tbody tr th:only-of-type {\n        vertical-align: middle;\n    }\n\n    .dataframe tbody tr th {\n        vertical-align: top;\n    }\n\n    .dataframe thead th {\n        text-align: right;\n    }\n</style>\n<table border=\"1\" class=\"dataframe\">\n  <thead>\n    <tr style=\"text-align: right;\">\n      <th></th>\n      <th>one</th>\n      <th>two</th>\n    </tr>\n  </thead>\n  <tbody>\n    <tr>\n      <th>a</th>\n      <td>10</td>\n      <td>rojo</td>\n    </tr>\n    <tr>\n      <th>b</th>\n      <td>20</td>\n      <td>verde</td>\n    </tr>\n    <tr>\n      <th>c</th>\n      <td>10</td>\n      <td>azul</td>\n    </tr>\n  </tbody>\n</table>\n</div>"
     },
     "metadata": {}
    }
   ],
   "execution_count": null
  },
  {
   "cell_type": "markdown",
   "source": "# Leer un dataframe",
   "metadata": {
    "cell_id": "00010-2f84ac87-5c7a-439b-8068-36bb5305782f",
    "deepnote_cell_type": "markdown"
   }
  },
  {
   "cell_type": "code",
   "metadata": {
    "tags": [],
    "cell_id": "00011-c67d4558-4458-4e4c-8c7d-33dd26a83308",
    "deepnote_to_be_reexecuted": false,
    "source_hash": "725e7c62",
    "execution_start": 1634953806752,
    "execution_millis": 5,
    "deepnote_cell_type": "code"
   },
   "source": "# Lee el archivo llamado 'avengers.csv\" localizado en la carpeta \"data\" y crea un DataFrame, llamado 'avengers'. \n# El archivo está localizado en \"data/avengers.csv\"\n\ndata = pd.read_csv('avengers.csv')",
   "execution_count": 4,
   "outputs": []
  },
  {
   "cell_type": "markdown",
   "source": "# Inspeccionar un dataframe",
   "metadata": {
    "cell_id": "00012-e8663971-80f8-4981-b296-736ab80543d7",
    "deepnote_cell_type": "markdown"
   }
  },
  {
   "cell_type": "code",
   "metadata": {
    "tags": [],
    "cell_id": "00013-f7bf7d98-5f8c-4cf4-8f41-88f252673d4c",
    "deepnote_to_be_reexecuted": false,
    "source_hash": "e8239db6",
    "execution_start": 1634953811035,
    "execution_millis": 20,
    "deepnote_cell_type": "code"
   },
   "source": "# Muestra las primeras 5 filas del DataFrame.\ndata.head()\n",
   "execution_count": 5,
   "outputs": [
    {
     "output_type": "execute_result",
     "execution_count": 5,
     "data": {
      "application/vnd.deepnote.dataframe.v2+json": {
       "row_count": 5,
       "column_count": 7,
       "columns": [
        {
         "name": "URL",
         "dtype": "object",
         "stats": {
          "unique_count": 5,
          "nan_count": 0,
          "categories": [
           {
            "name": "http://marvel.wikia.com/Henry_Pym_(Earth-616)",
            "count": 1
           },
           {
            "name": "http://marvel.wikia.com/Janet_van_Dyne_(Earth-616)",
            "count": 1
           },
           {
            "name": "3 others",
            "count": 3
           }
          ]
         }
        },
        {
         "name": "nombre",
         "dtype": "object",
         "stats": {
          "unique_count": 5,
          "nan_count": 0,
          "categories": [
           {
            "name": "Henry Jonathan \"Hank\" Pym",
            "count": 1
           },
           {
            "name": "Janet van Dyne",
            "count": 1
           },
           {
            "name": "3 others",
            "count": 3
           }
          ]
         }
        },
        {
         "name": "n_apariciones",
         "dtype": "int64",
         "stats": {
          "unique_count": 5,
          "nan_count": 0,
          "min": "1165",
          "max": "3068",
          "histogram": [
           {
            "bin_start": 1165,
            "bin_end": 1355.3,
            "count": 2
           },
           {
            "bin_start": 1355.3,
            "bin_end": 1545.6,
            "count": 0
           },
           {
            "bin_start": 1545.6,
            "bin_end": 1735.9,
            "count": 0
           },
           {
            "bin_start": 1735.9,
            "bin_end": 1926.2,
            "count": 0
           },
           {
            "bin_start": 1926.2,
            "bin_end": 2116.5,
            "count": 1
           },
           {
            "bin_start": 2116.5,
            "bin_end": 2306.8,
            "count": 0
           },
           {
            "bin_start": 2306.8,
            "bin_end": 2497.1000000000004,
            "count": 1
           },
           {
            "bin_start": 2497.1000000000004,
            "bin_end": 2687.4,
            "count": 0
           },
           {
            "bin_start": 2687.4,
            "bin_end": 2877.7,
            "count": 0
           },
           {
            "bin_start": 2877.7,
            "bin_end": 3068,
            "count": 1
           }
          ]
         }
        },
        {
         "name": "actual",
         "dtype": "object",
         "stats": {
          "unique_count": 1,
          "nan_count": 0,
          "categories": [
           {
            "name": "YES",
            "count": 5
           }
          ]
         }
        },
        {
         "name": "genero",
         "dtype": "object",
         "stats": {
          "unique_count": 2,
          "nan_count": 0,
          "categories": [
           {
            "name": "MALE",
            "count": 4
           },
           {
            "name": "FEMALE",
            "count": 1
           }
          ]
         }
        },
        {
         "name": "fecha_inicio",
         "dtype": "int64",
         "stats": {
          "unique_count": 1,
          "nan_count": 0,
          "min": "1963",
          "max": "1963",
          "histogram": [
           {
            "bin_start": 1962.5,
            "bin_end": 1962.6,
            "count": 0
           },
           {
            "bin_start": 1962.6,
            "bin_end": 1962.7,
            "count": 0
           },
           {
            "bin_start": 1962.7,
            "bin_end": 1962.8,
            "count": 0
           },
           {
            "bin_start": 1962.8,
            "bin_end": 1962.9,
            "count": 0
           },
           {
            "bin_start": 1962.9,
            "bin_end": 1963,
            "count": 0
           },
           {
            "bin_start": 1963,
            "bin_end": 1963.1,
            "count": 5
           },
           {
            "bin_start": 1963.1,
            "bin_end": 1963.2,
            "count": 0
           },
           {
            "bin_start": 1963.2,
            "bin_end": 1963.3,
            "count": 0
           },
           {
            "bin_start": 1963.3,
            "bin_end": 1963.4,
            "count": 0
           },
           {
            "bin_start": 1963.4,
            "bin_end": 1963.5,
            "count": 0
           }
          ]
         }
        },
        {
         "name": "Notes",
         "dtype": "object",
         "stats": {
          "unique_count": 5,
          "nan_count": 0,
          "categories": [
           {
            "name": "Merged with Ultron in Rage of Ultron Vol. 1. A funeral was held.",
            "count": 1
           },
           {
            "name": "Dies in Secret Invasion V1:I8. Actually was sent tto Microverse later recovered",
            "count": 1
           },
           {
            "name": "3 others",
            "count": 3
           }
          ]
         }
        },
        {
         "name": "_deepnote_index_column",
         "dtype": "int64"
        }
       ],
       "rows_top": [
        {
         "URL": "http://marvel.wikia.com/Henry_Pym_(Earth-616)",
         "nombre": "Henry Jonathan \"Hank\" Pym",
         "n_apariciones": 1269,
         "actual": "YES",
         "genero": "MALE",
         "fecha_inicio": 1963,
         "Notes": "Merged with Ultron in Rage of Ultron Vol. 1. A funeral was held.",
         "_deepnote_index_column": 0
        },
        {
         "URL": "http://marvel.wikia.com/Janet_van_Dyne_(Earth-616)",
         "nombre": "Janet van Dyne",
         "n_apariciones": 1165,
         "actual": "YES",
         "genero": "FEMALE",
         "fecha_inicio": 1963,
         "Notes": "Dies in Secret Invasion V1:I8. Actually was sent tto Microverse later recovered",
         "_deepnote_index_column": 1
        },
        {
         "URL": "http://marvel.wikia.com/Anthony_Stark_(Earth-616)",
         "nombre": "Anthony Edward \"Tony\" Stark",
         "n_apariciones": 3068,
         "actual": "YES",
         "genero": "MALE",
         "fecha_inicio": 1963,
         "Notes": "Death: \"Later while under the influence of Immortus Stark committed a number of horrible acts and w…",
         "_deepnote_index_column": 2
        },
        {
         "URL": "http://marvel.wikia.com/Robert_Bruce_Banner_(Earth-616)",
         "nombre": "Robert Bruce Banner",
         "n_apariciones": 2089,
         "actual": "YES",
         "genero": "MALE",
         "fecha_inicio": 1963,
         "Notes": "Dies in Ghosts of the Future arc. However \"he had actually used a hidden Pantheon base to survive\"",
         "_deepnote_index_column": 3
        },
        {
         "URL": "http://marvel.wikia.com/Thor_Odinson_(Earth-616)",
         "nombre": "Thor Odinson",
         "n_apariciones": 2402,
         "actual": "YES",
         "genero": "MALE",
         "fecha_inicio": 1963,
         "Notes": "Dies in Fear Itself brought back because that's kind of the whole point. Second death in Time Runs …",
         "_deepnote_index_column": 4
        }
       ],
       "rows_bottom": null
      },
      "text/plain": "                                                 URL  \\\n0      http://marvel.wikia.com/Henry_Pym_(Earth-616)   \n1  http://marvel.wikia.com/Janet_van_Dyne_(Earth-...   \n2  http://marvel.wikia.com/Anthony_Stark_(Earth-616)   \n3  http://marvel.wikia.com/Robert_Bruce_Banner_(E...   \n4   http://marvel.wikia.com/Thor_Odinson_(Earth-616)   \n\n                        nombre  n_apariciones actual  genero  fecha_inicio  \\\n0    Henry Jonathan \"Hank\" Pym           1269    YES    MALE          1963   \n1               Janet van Dyne           1165    YES  FEMALE          1963   \n2  Anthony Edward \"Tony\" Stark           3068    YES    MALE          1963   \n3          Robert Bruce Banner           2089    YES    MALE          1963   \n4                 Thor Odinson           2402    YES    MALE          1963   \n\n                                               Notes  \n0  Merged with Ultron in Rage of Ultron Vol. 1. A...  \n1  Dies in Secret Invasion V1:I8. Actually was se...  \n2  Death: \"Later while under the influence of Imm...  \n3  Dies in Ghosts of the Future arc. However \"he ...  \n4  Dies in Fear Itself brought back because that'...  ",
      "text/html": "<div>\n<style scoped>\n    .dataframe tbody tr th:only-of-type {\n        vertical-align: middle;\n    }\n\n    .dataframe tbody tr th {\n        vertical-align: top;\n    }\n\n    .dataframe thead th {\n        text-align: right;\n    }\n</style>\n<table border=\"1\" class=\"dataframe\">\n  <thead>\n    <tr style=\"text-align: right;\">\n      <th></th>\n      <th>URL</th>\n      <th>nombre</th>\n      <th>n_apariciones</th>\n      <th>actual</th>\n      <th>genero</th>\n      <th>fecha_inicio</th>\n      <th>Notes</th>\n    </tr>\n  </thead>\n  <tbody>\n    <tr>\n      <th>0</th>\n      <td>http://marvel.wikia.com/Henry_Pym_(Earth-616)</td>\n      <td>Henry Jonathan \"Hank\" Pym</td>\n      <td>1269</td>\n      <td>YES</td>\n      <td>MALE</td>\n      <td>1963</td>\n      <td>Merged with Ultron in Rage of Ultron Vol. 1. A...</td>\n    </tr>\n    <tr>\n      <th>1</th>\n      <td>http://marvel.wikia.com/Janet_van_Dyne_(Earth-...</td>\n      <td>Janet van Dyne</td>\n      <td>1165</td>\n      <td>YES</td>\n      <td>FEMALE</td>\n      <td>1963</td>\n      <td>Dies in Secret Invasion V1:I8. Actually was se...</td>\n    </tr>\n    <tr>\n      <th>2</th>\n      <td>http://marvel.wikia.com/Anthony_Stark_(Earth-616)</td>\n      <td>Anthony Edward \"Tony\" Stark</td>\n      <td>3068</td>\n      <td>YES</td>\n      <td>MALE</td>\n      <td>1963</td>\n      <td>Death: \"Later while under the influence of Imm...</td>\n    </tr>\n    <tr>\n      <th>3</th>\n      <td>http://marvel.wikia.com/Robert_Bruce_Banner_(E...</td>\n      <td>Robert Bruce Banner</td>\n      <td>2089</td>\n      <td>YES</td>\n      <td>MALE</td>\n      <td>1963</td>\n      <td>Dies in Ghosts of the Future arc. However \"he ...</td>\n    </tr>\n    <tr>\n      <th>4</th>\n      <td>http://marvel.wikia.com/Thor_Odinson_(Earth-616)</td>\n      <td>Thor Odinson</td>\n      <td>2402</td>\n      <td>YES</td>\n      <td>MALE</td>\n      <td>1963</td>\n      <td>Dies in Fear Itself brought back because that'...</td>\n    </tr>\n  </tbody>\n</table>\n</div>"
     },
     "metadata": {}
    }
   ]
  },
  {
   "cell_type": "code",
   "metadata": {
    "tags": [],
    "cell_id": "00014-dfc59452-d829-443c-829c-99f0763b346e",
    "deepnote_to_be_reexecuted": false,
    "source_hash": "d25a0b79",
    "execution_start": 1634953815149,
    "execution_millis": 11,
    "deepnote_cell_type": "code"
   },
   "source": "# Muestra las primeras 10 filas del DataFrame. \ndata.head(10)",
   "execution_count": 6,
   "outputs": [
    {
     "output_type": "execute_result",
     "execution_count": 6,
     "data": {
      "application/vnd.deepnote.dataframe.v2+json": {
       "row_count": 10,
       "column_count": 7,
       "columns": [
        {
         "name": "URL",
         "dtype": "object",
         "stats": {
          "unique_count": 10,
          "nan_count": 0,
          "categories": [
           {
            "name": "http://marvel.wikia.com/Henry_Pym_(Earth-616)",
            "count": 1
           },
           {
            "name": "http://marvel.wikia.com/Janet_van_Dyne_(Earth-616)",
            "count": 1
           },
           {
            "name": "8 others",
            "count": 8
           }
          ]
         }
        },
        {
         "name": "nombre",
         "dtype": "object",
         "stats": {
          "unique_count": 10,
          "nan_count": 0,
          "categories": [
           {
            "name": "Henry Jonathan \"Hank\" Pym",
            "count": 1
           },
           {
            "name": "Janet van Dyne",
            "count": 1
           },
           {
            "name": "8 others",
            "count": 8
           }
          ]
         }
        },
        {
         "name": "n_apariciones",
         "dtype": "int64",
         "stats": {
          "unique_count": 10,
          "nan_count": 0,
          "min": "612",
          "max": "3458",
          "histogram": [
           {
            "bin_start": 612,
            "bin_end": 896.6,
            "count": 2
           },
           {
            "bin_start": 896.6,
            "bin_end": 1181.2,
            "count": 1
           },
           {
            "bin_start": 1181.2,
            "bin_end": 1465.8000000000002,
            "count": 3
           },
           {
            "bin_start": 1465.8000000000002,
            "bin_end": 1750.4,
            "count": 0
           },
           {
            "bin_start": 1750.4,
            "bin_end": 2035,
            "count": 0
           },
           {
            "bin_start": 2035,
            "bin_end": 2319.6000000000004,
            "count": 1
           },
           {
            "bin_start": 2319.6000000000004,
            "bin_end": 2604.2000000000003,
            "count": 1
           },
           {
            "bin_start": 2604.2000000000003,
            "bin_end": 2888.8,
            "count": 0
           },
           {
            "bin_start": 2888.8,
            "bin_end": 3173.4,
            "count": 1
           },
           {
            "bin_start": 3173.4,
            "bin_end": 3458,
            "count": 1
           }
          ]
         }
        },
        {
         "name": "actual",
         "dtype": "object",
         "stats": {
          "unique_count": 1,
          "nan_count": 0,
          "categories": [
           {
            "name": "YES",
            "count": 10
           }
          ]
         }
        },
        {
         "name": "genero",
         "dtype": "object",
         "stats": {
          "unique_count": 2,
          "nan_count": 0,
          "categories": [
           {
            "name": "MALE",
            "count": 8
           },
           {
            "name": "FEMALE",
            "count": 2
           }
          ]
         }
        },
        {
         "name": "fecha_inicio",
         "dtype": "int64",
         "stats": {
          "unique_count": 3,
          "nan_count": 0,
          "min": "1963",
          "max": "1965",
          "histogram": [
           {
            "bin_start": 1963,
            "bin_end": 1963.2,
            "count": 6
           },
           {
            "bin_start": 1963.2,
            "bin_end": 1963.4,
            "count": 0
           },
           {
            "bin_start": 1963.4,
            "bin_end": 1963.6,
            "count": 0
           },
           {
            "bin_start": 1963.6,
            "bin_end": 1963.8,
            "count": 0
           },
           {
            "bin_start": 1963.8,
            "bin_end": 1964,
            "count": 0
           },
           {
            "bin_start": 1964,
            "bin_end": 1964.2,
            "count": 1
           },
           {
            "bin_start": 1964.2,
            "bin_end": 1964.4,
            "count": 0
           },
           {
            "bin_start": 1964.4,
            "bin_end": 1964.6,
            "count": 0
           },
           {
            "bin_start": 1964.6,
            "bin_end": 1964.8,
            "count": 0
           },
           {
            "bin_start": 1964.8,
            "bin_end": 1965,
            "count": 3
           }
          ]
         }
        },
        {
         "name": "Notes",
         "dtype": "object",
         "stats": {
          "unique_count": 9,
          "nan_count": 1,
          "categories": [
           {
            "name": "Merged with Ultron in Rage of Ultron Vol. 1. A funeral was held.",
            "count": 1
           },
           {
            "name": "8 others",
            "count": 8
           },
           {
            "name": "Missing",
            "count": 1
           }
          ]
         }
        },
        {
         "name": "_deepnote_index_column",
         "dtype": "int64"
        }
       ],
       "rows_top": [
        {
         "URL": "http://marvel.wikia.com/Henry_Pym_(Earth-616)",
         "nombre": "Henry Jonathan \"Hank\" Pym",
         "n_apariciones": 1269,
         "actual": "YES",
         "genero": "MALE",
         "fecha_inicio": 1963,
         "Notes": "Merged with Ultron in Rage of Ultron Vol. 1. A funeral was held.",
         "_deepnote_index_column": 0
        },
        {
         "URL": "http://marvel.wikia.com/Janet_van_Dyne_(Earth-616)",
         "nombre": "Janet van Dyne",
         "n_apariciones": 1165,
         "actual": "YES",
         "genero": "FEMALE",
         "fecha_inicio": 1963,
         "Notes": "Dies in Secret Invasion V1:I8. Actually was sent tto Microverse later recovered",
         "_deepnote_index_column": 1
        },
        {
         "URL": "http://marvel.wikia.com/Anthony_Stark_(Earth-616)",
         "nombre": "Anthony Edward \"Tony\" Stark",
         "n_apariciones": 3068,
         "actual": "YES",
         "genero": "MALE",
         "fecha_inicio": 1963,
         "Notes": "Death: \"Later while under the influence of Immortus Stark committed a number of horrible acts and w…",
         "_deepnote_index_column": 2
        },
        {
         "URL": "http://marvel.wikia.com/Robert_Bruce_Banner_(Earth-616)",
         "nombre": "Robert Bruce Banner",
         "n_apariciones": 2089,
         "actual": "YES",
         "genero": "MALE",
         "fecha_inicio": 1963,
         "Notes": "Dies in Ghosts of the Future arc. However \"he had actually used a hidden Pantheon base to survive\"",
         "_deepnote_index_column": 3
        },
        {
         "URL": "http://marvel.wikia.com/Thor_Odinson_(Earth-616)",
         "nombre": "Thor Odinson",
         "n_apariciones": 2402,
         "actual": "YES",
         "genero": "MALE",
         "fecha_inicio": 1963,
         "Notes": "Dies in Fear Itself brought back because that's kind of the whole point. Second death in Time Runs …",
         "_deepnote_index_column": 4
        },
        {
         "URL": "http://marvel.wikia.com/Richard_Jones_(Earth-616)",
         "nombre": "Richard Milhouse Jones",
         "n_apariciones": 612,
         "actual": "YES",
         "genero": "MALE",
         "fecha_inicio": 1963,
         "Notes": "nan",
         "_deepnote_index_column": 5
        },
        {
         "URL": "http://marvel.wikia.com/Steven_Rogers_(Earth-616)",
         "nombre": "Steven Rogers",
         "n_apariciones": 3458,
         "actual": "YES",
         "genero": "MALE",
         "fecha_inicio": 1964,
         "Notes": "Dies at the end of Civil War. Later comes back.",
         "_deepnote_index_column": 6
        },
        {
         "URL": "http://marvel.wikia.com/Clint_Barton_(Earth-616)",
         "nombre": "Clinton Francis Barton",
         "n_apariciones": 1456,
         "actual": "YES",
         "genero": "MALE",
         "fecha_inicio": 1965,
         "Notes": "Dies in exploding Kree ship in Averngers Vol. 1  Issue 502. Brought back by Scarlet Witch. Dies aga…",
         "_deepnote_index_column": 7
        },
        {
         "URL": "http://marvel.wikia.com/Pietro_Maximoff_(Earth-616)",
         "nombre": "Pietro Maximoff",
         "n_apariciones": 769,
         "actual": "YES",
         "genero": "MALE",
         "fecha_inicio": 1965,
         "Notes": "Dies in House of M Vol 1 Issue 7. Later comes back",
         "_deepnote_index_column": 8
        },
        {
         "URL": "http://marvel.wikia.com/Wanda_Maximoff_(Earth-616)",
         "nombre": "Wanda Maximoff",
         "n_apariciones": 1214,
         "actual": "YES",
         "genero": "FEMALE",
         "fecha_inicio": 1965,
         "Notes": "Dies in Uncanny_Avengers_Vol_1_14. Later comes back",
         "_deepnote_index_column": 9
        }
       ],
       "rows_bottom": null
      },
      "text/plain": "                                                 URL  \\\n0      http://marvel.wikia.com/Henry_Pym_(Earth-616)   \n1  http://marvel.wikia.com/Janet_van_Dyne_(Earth-...   \n2  http://marvel.wikia.com/Anthony_Stark_(Earth-616)   \n3  http://marvel.wikia.com/Robert_Bruce_Banner_(E...   \n4   http://marvel.wikia.com/Thor_Odinson_(Earth-616)   \n5  http://marvel.wikia.com/Richard_Jones_(Earth-616)   \n6  http://marvel.wikia.com/Steven_Rogers_(Earth-616)   \n7   http://marvel.wikia.com/Clint_Barton_(Earth-616)   \n8  http://marvel.wikia.com/Pietro_Maximoff_(Earth...   \n9  http://marvel.wikia.com/Wanda_Maximoff_(Earth-...   \n\n                        nombre  n_apariciones actual  genero  fecha_inicio  \\\n0    Henry Jonathan \"Hank\" Pym           1269    YES    MALE          1963   \n1               Janet van Dyne           1165    YES  FEMALE          1963   \n2  Anthony Edward \"Tony\" Stark           3068    YES    MALE          1963   \n3          Robert Bruce Banner           2089    YES    MALE          1963   \n4                 Thor Odinson           2402    YES    MALE          1963   \n5       Richard Milhouse Jones            612    YES    MALE          1963   \n6                Steven Rogers           3458    YES    MALE          1964   \n7       Clinton Francis Barton           1456    YES    MALE          1965   \n8              Pietro Maximoff            769    YES    MALE          1965   \n9               Wanda Maximoff           1214    YES  FEMALE          1965   \n\n                                               Notes  \n0  Merged with Ultron in Rage of Ultron Vol. 1. A...  \n1  Dies in Secret Invasion V1:I8. Actually was se...  \n2  Death: \"Later while under the influence of Imm...  \n3  Dies in Ghosts of the Future arc. However \"he ...  \n4  Dies in Fear Itself brought back because that'...  \n5                                                NaN  \n6    Dies at the end of Civil War. Later comes back.  \n7  Dies in exploding Kree ship in Averngers Vol. ...  \n8  Dies in House of M Vol 1 Issue 7. Later comes ...  \n9  Dies in Uncanny_Avengers_Vol_1_14. Later comes...  ",
      "text/html": "<div>\n<style scoped>\n    .dataframe tbody tr th:only-of-type {\n        vertical-align: middle;\n    }\n\n    .dataframe tbody tr th {\n        vertical-align: top;\n    }\n\n    .dataframe thead th {\n        text-align: right;\n    }\n</style>\n<table border=\"1\" class=\"dataframe\">\n  <thead>\n    <tr style=\"text-align: right;\">\n      <th></th>\n      <th>URL</th>\n      <th>nombre</th>\n      <th>n_apariciones</th>\n      <th>actual</th>\n      <th>genero</th>\n      <th>fecha_inicio</th>\n      <th>Notes</th>\n    </tr>\n  </thead>\n  <tbody>\n    <tr>\n      <th>0</th>\n      <td>http://marvel.wikia.com/Henry_Pym_(Earth-616)</td>\n      <td>Henry Jonathan \"Hank\" Pym</td>\n      <td>1269</td>\n      <td>YES</td>\n      <td>MALE</td>\n      <td>1963</td>\n      <td>Merged with Ultron in Rage of Ultron Vol. 1. A...</td>\n    </tr>\n    <tr>\n      <th>1</th>\n      <td>http://marvel.wikia.com/Janet_van_Dyne_(Earth-...</td>\n      <td>Janet van Dyne</td>\n      <td>1165</td>\n      <td>YES</td>\n      <td>FEMALE</td>\n      <td>1963</td>\n      <td>Dies in Secret Invasion V1:I8. Actually was se...</td>\n    </tr>\n    <tr>\n      <th>2</th>\n      <td>http://marvel.wikia.com/Anthony_Stark_(Earth-616)</td>\n      <td>Anthony Edward \"Tony\" Stark</td>\n      <td>3068</td>\n      <td>YES</td>\n      <td>MALE</td>\n      <td>1963</td>\n      <td>Death: \"Later while under the influence of Imm...</td>\n    </tr>\n    <tr>\n      <th>3</th>\n      <td>http://marvel.wikia.com/Robert_Bruce_Banner_(E...</td>\n      <td>Robert Bruce Banner</td>\n      <td>2089</td>\n      <td>YES</td>\n      <td>MALE</td>\n      <td>1963</td>\n      <td>Dies in Ghosts of the Future arc. However \"he ...</td>\n    </tr>\n    <tr>\n      <th>4</th>\n      <td>http://marvel.wikia.com/Thor_Odinson_(Earth-616)</td>\n      <td>Thor Odinson</td>\n      <td>2402</td>\n      <td>YES</td>\n      <td>MALE</td>\n      <td>1963</td>\n      <td>Dies in Fear Itself brought back because that'...</td>\n    </tr>\n    <tr>\n      <th>5</th>\n      <td>http://marvel.wikia.com/Richard_Jones_(Earth-616)</td>\n      <td>Richard Milhouse Jones</td>\n      <td>612</td>\n      <td>YES</td>\n      <td>MALE</td>\n      <td>1963</td>\n      <td>NaN</td>\n    </tr>\n    <tr>\n      <th>6</th>\n      <td>http://marvel.wikia.com/Steven_Rogers_(Earth-616)</td>\n      <td>Steven Rogers</td>\n      <td>3458</td>\n      <td>YES</td>\n      <td>MALE</td>\n      <td>1964</td>\n      <td>Dies at the end of Civil War. Later comes back.</td>\n    </tr>\n    <tr>\n      <th>7</th>\n      <td>http://marvel.wikia.com/Clint_Barton_(Earth-616)</td>\n      <td>Clinton Francis Barton</td>\n      <td>1456</td>\n      <td>YES</td>\n      <td>MALE</td>\n      <td>1965</td>\n      <td>Dies in exploding Kree ship in Averngers Vol. ...</td>\n    </tr>\n    <tr>\n      <th>8</th>\n      <td>http://marvel.wikia.com/Pietro_Maximoff_(Earth...</td>\n      <td>Pietro Maximoff</td>\n      <td>769</td>\n      <td>YES</td>\n      <td>MALE</td>\n      <td>1965</td>\n      <td>Dies in House of M Vol 1 Issue 7. Later comes ...</td>\n    </tr>\n    <tr>\n      <th>9</th>\n      <td>http://marvel.wikia.com/Wanda_Maximoff_(Earth-...</td>\n      <td>Wanda Maximoff</td>\n      <td>1214</td>\n      <td>YES</td>\n      <td>FEMALE</td>\n      <td>1965</td>\n      <td>Dies in Uncanny_Avengers_Vol_1_14. Later comes...</td>\n    </tr>\n  </tbody>\n</table>\n</div>"
     },
     "metadata": {}
    }
   ]
  },
  {
   "cell_type": "code",
   "metadata": {
    "tags": [],
    "cell_id": "00015-4e85deba-a8e1-4e09-b3c0-46a11d90a04c",
    "deepnote_to_be_reexecuted": false,
    "source_hash": "a50feab4",
    "execution_start": 1634951708191,
    "execution_millis": 44,
    "deepnote_cell_type": "code"
   },
   "source": "# Muestra las últimas 5 filas del DataFrame.\n\ndata.tail(5)\n",
   "outputs": [
    {
     "output_type": "execute_result",
     "execution_count": 10,
     "data": {
      "application/vnd.deepnote.dataframe.v2+json": {
       "row_count": 5,
       "column_count": 7,
       "columns": [
        {
         "name": "URL",
         "dtype": "object",
         "stats": {
          "unique_count": 5,
          "nan_count": 0,
          "categories": [
           {
            "name": "http://marvel.wikia.com/Eric_Brooks_(Earth-616)#",
            "count": 1
           },
           {
            "name": "http://marvel.wikia.com/Adam_Brashear_(Earth-616)#",
            "count": 1
           },
           {
            "name": "3 others",
            "count": 3
           }
          ]
         }
        },
        {
         "name": "nombre",
         "dtype": "object",
         "stats": {
          "unique_count": 5,
          "nan_count": 0,
          "categories": [
           {
            "name": "Eric Brooks",
            "count": 1
           },
           {
            "name": "Adam Brashear",
            "count": 1
           },
           {
            "name": "3 others",
            "count": 3
           }
          ]
         }
        },
        {
         "name": "n_apariciones",
         "dtype": "int64",
         "stats": {
          "unique_count": 5,
          "nan_count": 0,
          "min": "29",
          "max": "198",
          "histogram": [
           {
            "bin_start": 29,
            "bin_end": 45.9,
            "count": 3
           },
           {
            "bin_start": 45.9,
            "bin_end": 62.8,
            "count": 1
           },
           {
            "bin_start": 62.8,
            "bin_end": 79.69999999999999,
            "count": 0
           },
           {
            "bin_start": 79.69999999999999,
            "bin_end": 96.6,
            "count": 0
           },
           {
            "bin_start": 96.6,
            "bin_end": 113.5,
            "count": 0
           },
           {
            "bin_start": 113.5,
            "bin_end": 130.39999999999998,
            "count": 0
           },
           {
            "bin_start": 130.39999999999998,
            "bin_end": 147.29999999999998,
            "count": 0
           },
           {
            "bin_start": 147.29999999999998,
            "bin_end": 164.2,
            "count": 0
           },
           {
            "bin_start": 164.2,
            "bin_end": 181.1,
            "count": 0
           },
           {
            "bin_start": 181.1,
            "bin_end": 198,
            "count": 1
           }
          ]
         }
        },
        {
         "name": "actual",
         "dtype": "object",
         "stats": {
          "unique_count": 1,
          "nan_count": 0,
          "categories": [
           {
            "name": "YES",
            "count": 5
           }
          ]
         }
        },
        {
         "name": "genero",
         "dtype": "object",
         "stats": {
          "unique_count": 2,
          "nan_count": 0,
          "categories": [
           {
            "name": "MALE",
            "count": 4
           },
           {
            "name": "FEMALE",
            "count": 1
           }
          ]
         }
        },
        {
         "name": "fecha_inicio",
         "dtype": "int64",
         "stats": {
          "unique_count": 3,
          "nan_count": 0,
          "min": "2013",
          "max": "2015",
          "histogram": [
           {
            "bin_start": 2013,
            "bin_end": 2013.2,
            "count": 1
           },
           {
            "bin_start": 2013.2,
            "bin_end": 2013.4,
            "count": 0
           },
           {
            "bin_start": 2013.4,
            "bin_end": 2013.6,
            "count": 0
           },
           {
            "bin_start": 2013.6,
            "bin_end": 2013.8,
            "count": 0
           },
           {
            "bin_start": 2013.8,
            "bin_end": 2014,
            "count": 0
           },
           {
            "bin_start": 2014,
            "bin_end": 2014.2,
            "count": 3
           },
           {
            "bin_start": 2014.2,
            "bin_end": 2014.4,
            "count": 0
           },
           {
            "bin_start": 2014.4,
            "bin_end": 2014.6,
            "count": 0
           },
           {
            "bin_start": 2014.6,
            "bin_end": 2014.8,
            "count": 0
           },
           {
            "bin_start": 2014.8,
            "bin_end": 2015,
            "count": 1
           }
          ]
         }
        },
        {
         "name": "Notes",
         "dtype": "object",
         "stats": {
          "unique_count": 0,
          "nan_count": 5,
          "categories": [
           {
            "name": "Missing",
            "count": 5
           }
          ]
         }
        },
        {
         "name": "_deepnote_index_column",
         "dtype": "int64"
        }
       ],
       "rows_top": [
        {
         "URL": "http://marvel.wikia.com/Eric_Brooks_(Earth-616)#",
         "nombre": "Eric Brooks",
         "n_apariciones": 198,
         "actual": "YES",
         "genero": "MALE",
         "fecha_inicio": 2013,
         "Notes": "nan",
         "_deepnote_index_column": 168
        },
        {
         "URL": "http://marvel.wikia.com/Adam_Brashear_(Earth-616)#",
         "nombre": "Adam Brashear",
         "n_apariciones": 29,
         "actual": "YES",
         "genero": "MALE",
         "fecha_inicio": 2014,
         "Notes": "nan",
         "_deepnote_index_column": 169
        },
        {
         "URL": "http://marvel.wikia.com/Victor_Alvarez_(Earth-616)#",
         "nombre": "Victor Alvarez",
         "n_apariciones": 45,
         "actual": "YES",
         "genero": "MALE",
         "fecha_inicio": 2014,
         "Notes": "nan",
         "_deepnote_index_column": 170
        },
        {
         "URL": "http://marvel.wikia.com/Ava_Ayala_(Earth-616)#",
         "nombre": "Ava Ayala",
         "n_apariciones": 49,
         "actual": "YES",
         "genero": "FEMALE",
         "fecha_inicio": 2014,
         "Notes": "nan",
         "_deepnote_index_column": 171
        },
        {
         "URL": "http://marvel.wikia.com/Kaluu_(Earth-616)#",
         "nombre": "Kaluu",
         "n_apariciones": 35,
         "actual": "YES",
         "genero": "MALE",
         "fecha_inicio": 2015,
         "Notes": "nan",
         "_deepnote_index_column": 172
        }
       ],
       "rows_bottom": null
      },
      "text/plain": "                                                   URL          nombre  \\\n168   http://marvel.wikia.com/Eric_Brooks_(Earth-616)#     Eric Brooks   \n169  http://marvel.wikia.com/Adam_Brashear_(Earth-6...   Adam Brashear   \n170  http://marvel.wikia.com/Victor_Alvarez_(Earth-...  Victor Alvarez   \n171     http://marvel.wikia.com/Ava_Ayala_(Earth-616)#       Ava Ayala   \n172         http://marvel.wikia.com/Kaluu_(Earth-616)#           Kaluu   \n\n     n_apariciones actual  genero  fecha_inicio Notes  \n168            198    YES    MALE          2013   NaN  \n169             29    YES    MALE          2014   NaN  \n170             45    YES    MALE          2014   NaN  \n171             49    YES  FEMALE          2014   NaN  \n172             35    YES    MALE          2015   NaN  ",
      "text/html": "<div>\n<style scoped>\n    .dataframe tbody tr th:only-of-type {\n        vertical-align: middle;\n    }\n\n    .dataframe tbody tr th {\n        vertical-align: top;\n    }\n\n    .dataframe thead th {\n        text-align: right;\n    }\n</style>\n<table border=\"1\" class=\"dataframe\">\n  <thead>\n    <tr style=\"text-align: right;\">\n      <th></th>\n      <th>URL</th>\n      <th>nombre</th>\n      <th>n_apariciones</th>\n      <th>actual</th>\n      <th>genero</th>\n      <th>fecha_inicio</th>\n      <th>Notes</th>\n    </tr>\n  </thead>\n  <tbody>\n    <tr>\n      <th>168</th>\n      <td>http://marvel.wikia.com/Eric_Brooks_(Earth-616)#</td>\n      <td>Eric Brooks</td>\n      <td>198</td>\n      <td>YES</td>\n      <td>MALE</td>\n      <td>2013</td>\n      <td>NaN</td>\n    </tr>\n    <tr>\n      <th>169</th>\n      <td>http://marvel.wikia.com/Adam_Brashear_(Earth-6...</td>\n      <td>Adam Brashear</td>\n      <td>29</td>\n      <td>YES</td>\n      <td>MALE</td>\n      <td>2014</td>\n      <td>NaN</td>\n    </tr>\n    <tr>\n      <th>170</th>\n      <td>http://marvel.wikia.com/Victor_Alvarez_(Earth-...</td>\n      <td>Victor Alvarez</td>\n      <td>45</td>\n      <td>YES</td>\n      <td>MALE</td>\n      <td>2014</td>\n      <td>NaN</td>\n    </tr>\n    <tr>\n      <th>171</th>\n      <td>http://marvel.wikia.com/Ava_Ayala_(Earth-616)#</td>\n      <td>Ava Ayala</td>\n      <td>49</td>\n      <td>YES</td>\n      <td>FEMALE</td>\n      <td>2014</td>\n      <td>NaN</td>\n    </tr>\n    <tr>\n      <th>172</th>\n      <td>http://marvel.wikia.com/Kaluu_(Earth-616)#</td>\n      <td>Kaluu</td>\n      <td>35</td>\n      <td>YES</td>\n      <td>MALE</td>\n      <td>2015</td>\n      <td>NaN</td>\n    </tr>\n  </tbody>\n</table>\n</div>"
     },
     "metadata": {}
    }
   ],
   "execution_count": null
  },
  {
   "cell_type": "markdown",
   "source": "# Tamaño del DataFrame",
   "metadata": {
    "cell_id": "00016-ac686500-12da-4e98-a924-c7d1baa52aba",
    "deepnote_cell_type": "markdown"
   }
  },
  {
   "cell_type": "code",
   "metadata": {
    "tags": [],
    "cell_id": "00017-16fb1e38-5c67-4310-8769-f8923cfc2aa4",
    "deepnote_to_be_reexecuted": false,
    "source_hash": "bd54ecc1",
    "execution_start": 1634953821388,
    "execution_millis": 146,
    "deepnote_cell_type": "code"
   },
   "source": "# Muestra el tamaño del DataFrame\ndata.size\n",
   "execution_count": 7,
   "outputs": [
    {
     "output_type": "execute_result",
     "execution_count": 7,
     "data": {
      "text/plain": "1211"
     },
     "metadata": {}
    }
   ]
  },
  {
   "cell_type": "markdown",
   "source": "# Data types en un DataFrame",
   "metadata": {
    "cell_id": "00018-d942a8bc-1689-47bd-9adc-2fec62e1abce",
    "deepnote_cell_type": "markdown"
   }
  },
  {
   "cell_type": "code",
   "metadata": {
    "tags": [],
    "cell_id": "00019-d1e6bde2-57f2-4010-9b6d-e540c3d07ad5",
    "deepnote_to_be_reexecuted": false,
    "source_hash": "e3459871",
    "execution_start": 1634953970895,
    "execution_millis": 7,
    "deepnote_cell_type": "code"
   },
   "source": "# Muestra los data types del dataframe\ndata.dtypes",
   "execution_count": 8,
   "outputs": [
    {
     "output_type": "execute_result",
     "execution_count": 8,
     "data": {
      "text/plain": "URL              object\nnombre           object\nn_apariciones     int64\nactual           object\ngenero           object\nfecha_inicio      int64\nNotes            object\ndtype: object"
     },
     "metadata": {}
    }
   ]
  },
  {
   "cell_type": "markdown",
   "source": "# Editar el indice (index)",
   "metadata": {
    "cell_id": "00020-bebc66c1-baca-4d5b-9fea-da9fce3a2d43",
    "deepnote_cell_type": "markdown"
   }
  },
  {
   "cell_type": "code",
   "metadata": {
    "tags": [],
    "cell_id": "00021-bce985bf-1939-4aeb-936d-10fbb1a9dae8",
    "deepnote_to_be_reexecuted": false,
    "source_hash": "f805f98b",
    "execution_start": 1634954781196,
    "execution_millis": 7,
    "deepnote_cell_type": "code"
   },
   "source": "# Cambia el indice a la columna \"fecha_inicio\".\n\ndata.set_index('fecha_inicio', inplace=True)\ndata.head()",
   "execution_count": 22,
   "outputs": [
    {
     "output_type": "execute_result",
     "execution_count": 22,
     "data": {
      "application/vnd.deepnote.dataframe.v2+json": {
       "row_count": 5,
       "column_count": 6,
       "columns": [
        {
         "name": "URL",
         "dtype": "object",
         "stats": {
          "unique_count": 5,
          "nan_count": 0,
          "categories": [
           {
            "name": "http://marvel.wikia.com/Henry_Pym_(Earth-616)",
            "count": 1
           },
           {
            "name": "http://marvel.wikia.com/Janet_van_Dyne_(Earth-616)",
            "count": 1
           },
           {
            "name": "3 others",
            "count": 3
           }
          ]
         }
        },
        {
         "name": "nombre",
         "dtype": "object",
         "stats": {
          "unique_count": 5,
          "nan_count": 0,
          "categories": [
           {
            "name": "Henry Jonathan \"Hank\" Pym",
            "count": 1
           },
           {
            "name": "Janet van Dyne",
            "count": 1
           },
           {
            "name": "3 others",
            "count": 3
           }
          ]
         }
        },
        {
         "name": "n_apariciones",
         "dtype": "int64",
         "stats": {
          "unique_count": 5,
          "nan_count": 0,
          "min": "1165",
          "max": "3068",
          "histogram": [
           {
            "bin_start": 1165,
            "bin_end": 1355.3,
            "count": 2
           },
           {
            "bin_start": 1355.3,
            "bin_end": 1545.6,
            "count": 0
           },
           {
            "bin_start": 1545.6,
            "bin_end": 1735.9,
            "count": 0
           },
           {
            "bin_start": 1735.9,
            "bin_end": 1926.2,
            "count": 0
           },
           {
            "bin_start": 1926.2,
            "bin_end": 2116.5,
            "count": 1
           },
           {
            "bin_start": 2116.5,
            "bin_end": 2306.8,
            "count": 0
           },
           {
            "bin_start": 2306.8,
            "bin_end": 2497.1000000000004,
            "count": 1
           },
           {
            "bin_start": 2497.1000000000004,
            "bin_end": 2687.4,
            "count": 0
           },
           {
            "bin_start": 2687.4,
            "bin_end": 2877.7,
            "count": 0
           },
           {
            "bin_start": 2877.7,
            "bin_end": 3068,
            "count": 1
           }
          ]
         }
        },
        {
         "name": "actual",
         "dtype": "object",
         "stats": {
          "unique_count": 1,
          "nan_count": 0,
          "categories": [
           {
            "name": "YES",
            "count": 5
           }
          ]
         }
        },
        {
         "name": "genero",
         "dtype": "object",
         "stats": {
          "unique_count": 2,
          "nan_count": 0,
          "categories": [
           {
            "name": "MALE",
            "count": 4
           },
           {
            "name": "FEMALE",
            "count": 1
           }
          ]
         }
        },
        {
         "name": "Notes",
         "dtype": "object",
         "stats": {
          "unique_count": 5,
          "nan_count": 0,
          "categories": [
           {
            "name": "Merged with Ultron in Rage of Ultron Vol. 1. A funeral was held.",
            "count": 1
           },
           {
            "name": "Dies in Secret Invasion V1:I8. Actually was sent tto Microverse later recovered",
            "count": 1
           },
           {
            "name": "3 others",
            "count": 3
           }
          ]
         }
        },
        {
         "name": "_deepnote_index_column",
         "dtype": "int64"
        }
       ],
       "rows_top": [
        {
         "URL": "http://marvel.wikia.com/Henry_Pym_(Earth-616)",
         "nombre": "Henry Jonathan \"Hank\" Pym",
         "n_apariciones": "1269",
         "actual": "YES",
         "genero": "MALE",
         "Notes": "Merged with Ultron in Rage of Ultron Vol. 1. A funeral was held.",
         "_deepnote_index_column": "1963"
        },
        {
         "URL": "http://marvel.wikia.com/Janet_van_Dyne_(Earth-616)",
         "nombre": "Janet van Dyne",
         "n_apariciones": "1165",
         "actual": "YES",
         "genero": "FEMALE",
         "Notes": "Dies in Secret Invasion V1:I8. Actually was sent tto Microverse later recovered",
         "_deepnote_index_column": "1963"
        },
        {
         "URL": "http://marvel.wikia.com/Anthony_Stark_(Earth-616)",
         "nombre": "Anthony Edward \"Tony\" Stark",
         "n_apariciones": "3068",
         "actual": "YES",
         "genero": "MALE",
         "Notes": "Death: \"Later while under the influence of Immortus Stark committed a number of horrible acts and w…",
         "_deepnote_index_column": "1963"
        },
        {
         "URL": "http://marvel.wikia.com/Robert_Bruce_Banner_(Earth-616)",
         "nombre": "Robert Bruce Banner",
         "n_apariciones": "2089",
         "actual": "YES",
         "genero": "MALE",
         "Notes": "Dies in Ghosts of the Future arc. However \"he had actually used a hidden Pantheon base to survive\"",
         "_deepnote_index_column": "1963"
        },
        {
         "URL": "http://marvel.wikia.com/Thor_Odinson_(Earth-616)",
         "nombre": "Thor Odinson",
         "n_apariciones": "2402",
         "actual": "YES",
         "genero": "MALE",
         "Notes": "Dies in Fear Itself brought back because that's kind of the whole point. Second death in Time Runs …",
         "_deepnote_index_column": "1963"
        }
       ],
       "rows_bottom": null
      },
      "text/plain": "                                                            URL  \\\nfecha_inicio                                                      \n1963              http://marvel.wikia.com/Henry_Pym_(Earth-616)   \n1963          http://marvel.wikia.com/Janet_van_Dyne_(Earth-...   \n1963          http://marvel.wikia.com/Anthony_Stark_(Earth-616)   \n1963          http://marvel.wikia.com/Robert_Bruce_Banner_(E...   \n1963           http://marvel.wikia.com/Thor_Odinson_(Earth-616)   \n\n                                   nombre  n_apariciones actual  genero  \\\nfecha_inicio                                                              \n1963            Henry Jonathan \"Hank\" Pym           1269    YES    MALE   \n1963                       Janet van Dyne           1165    YES  FEMALE   \n1963          Anthony Edward \"Tony\" Stark           3068    YES    MALE   \n1963                  Robert Bruce Banner           2089    YES    MALE   \n1963                         Thor Odinson           2402    YES    MALE   \n\n                                                          Notes  \nfecha_inicio                                                     \n1963          Merged with Ultron in Rage of Ultron Vol. 1. A...  \n1963          Dies in Secret Invasion V1:I8. Actually was se...  \n1963          Death: \"Later while under the influence of Imm...  \n1963          Dies in Ghosts of the Future arc. However \"he ...  \n1963          Dies in Fear Itself brought back because that'...  ",
      "text/html": "<div>\n<style scoped>\n    .dataframe tbody tr th:only-of-type {\n        vertical-align: middle;\n    }\n\n    .dataframe tbody tr th {\n        vertical-align: top;\n    }\n\n    .dataframe thead th {\n        text-align: right;\n    }\n</style>\n<table border=\"1\" class=\"dataframe\">\n  <thead>\n    <tr style=\"text-align: right;\">\n      <th></th>\n      <th>URL</th>\n      <th>nombre</th>\n      <th>n_apariciones</th>\n      <th>actual</th>\n      <th>genero</th>\n      <th>Notes</th>\n    </tr>\n    <tr>\n      <th>fecha_inicio</th>\n      <th></th>\n      <th></th>\n      <th></th>\n      <th></th>\n      <th></th>\n      <th></th>\n    </tr>\n  </thead>\n  <tbody>\n    <tr>\n      <th>1963</th>\n      <td>http://marvel.wikia.com/Henry_Pym_(Earth-616)</td>\n      <td>Henry Jonathan \"Hank\" Pym</td>\n      <td>1269</td>\n      <td>YES</td>\n      <td>MALE</td>\n      <td>Merged with Ultron in Rage of Ultron Vol. 1. A...</td>\n    </tr>\n    <tr>\n      <th>1963</th>\n      <td>http://marvel.wikia.com/Janet_van_Dyne_(Earth-...</td>\n      <td>Janet van Dyne</td>\n      <td>1165</td>\n      <td>YES</td>\n      <td>FEMALE</td>\n      <td>Dies in Secret Invasion V1:I8. Actually was se...</td>\n    </tr>\n    <tr>\n      <th>1963</th>\n      <td>http://marvel.wikia.com/Anthony_Stark_(Earth-616)</td>\n      <td>Anthony Edward \"Tony\" Stark</td>\n      <td>3068</td>\n      <td>YES</td>\n      <td>MALE</td>\n      <td>Death: \"Later while under the influence of Imm...</td>\n    </tr>\n    <tr>\n      <th>1963</th>\n      <td>http://marvel.wikia.com/Robert_Bruce_Banner_(E...</td>\n      <td>Robert Bruce Banner</td>\n      <td>2089</td>\n      <td>YES</td>\n      <td>MALE</td>\n      <td>Dies in Ghosts of the Future arc. However \"he ...</td>\n    </tr>\n    <tr>\n      <th>1963</th>\n      <td>http://marvel.wikia.com/Thor_Odinson_(Earth-616)</td>\n      <td>Thor Odinson</td>\n      <td>2402</td>\n      <td>YES</td>\n      <td>MALE</td>\n      <td>Dies in Fear Itself brought back because that'...</td>\n    </tr>\n  </tbody>\n</table>\n</div>"
     },
     "metadata": {}
    }
   ]
  },
  {
   "cell_type": "markdown",
   "source": "# Ordenar el indice",
   "metadata": {
    "cell_id": "00022-0f29e100-d79a-471c-97d6-0d9aaef11e95",
    "deepnote_cell_type": "markdown"
   }
  },
  {
   "cell_type": "code",
   "metadata": {
    "tags": [],
    "cell_id": "00023-9e8dc44d-ebe2-411c-9c26-eec9a3fbf503",
    "deepnote_to_be_reexecuted": false,
    "source_hash": "6e890bb4",
    "execution_start": 1634954790599,
    "execution_millis": 69,
    "deepnote_cell_type": "code"
   },
   "source": "# Ordena el índice de forma descendiente\n\ndata2 = data.sort_index(ascending=False)\ndata2.head()",
   "execution_count": 23,
   "outputs": [
    {
     "output_type": "execute_result",
     "execution_count": 23,
     "data": {
      "application/vnd.deepnote.dataframe.v2+json": {
       "row_count": 5,
       "column_count": 6,
       "columns": [
        {
         "name": "URL",
         "dtype": "object",
         "stats": {
          "unique_count": 5,
          "nan_count": 0,
          "categories": [
           {
            "name": "http://marvel.wikia.com/Kaluu_(Earth-616)#",
            "count": 1
           },
           {
            "name": "http://marvel.wikia.com/Sam_Alexander_(Earth-616)#",
            "count": 1
           },
           {
            "name": "3 others",
            "count": 3
           }
          ]
         }
        },
        {
         "name": "nombre",
         "dtype": "object",
         "stats": {
          "unique_count": 5,
          "nan_count": 0,
          "categories": [
           {
            "name": "Kaluu",
            "count": 1
           },
           {
            "name": "Sam Alexander",
            "count": 1
           },
           {
            "name": "3 others",
            "count": 3
           }
          ]
         }
        },
        {
         "name": "n_apariciones",
         "dtype": "int64",
         "stats": {
          "unique_count": 5,
          "nan_count": 0,
          "min": "29",
          "max": "78",
          "histogram": [
           {
            "bin_start": 29,
            "bin_end": 33.9,
            "count": 1
           },
           {
            "bin_start": 33.9,
            "bin_end": 38.8,
            "count": 1
           },
           {
            "bin_start": 38.8,
            "bin_end": 43.7,
            "count": 0
           },
           {
            "bin_start": 43.7,
            "bin_end": 48.6,
            "count": 1
           },
           {
            "bin_start": 48.6,
            "bin_end": 53.5,
            "count": 1
           },
           {
            "bin_start": 53.5,
            "bin_end": 58.400000000000006,
            "count": 0
           },
           {
            "bin_start": 58.400000000000006,
            "bin_end": 63.300000000000004,
            "count": 0
           },
           {
            "bin_start": 63.300000000000004,
            "bin_end": 68.2,
            "count": 0
           },
           {
            "bin_start": 68.2,
            "bin_end": 73.1,
            "count": 0
           },
           {
            "bin_start": 73.1,
            "bin_end": 78,
            "count": 1
           }
          ]
         }
        },
        {
         "name": "actual",
         "dtype": "object",
         "stats": {
          "unique_count": 1,
          "nan_count": 0,
          "categories": [
           {
            "name": "YES",
            "count": 5
           }
          ]
         }
        },
        {
         "name": "genero",
         "dtype": "object",
         "stats": {
          "unique_count": 2,
          "nan_count": 0,
          "categories": [
           {
            "name": "MALE",
            "count": 4
           },
           {
            "name": "FEMALE",
            "count": 1
           }
          ]
         }
        },
        {
         "name": "Notes",
         "dtype": "object",
         "stats": {
          "unique_count": 0,
          "nan_count": 5,
          "categories": [
           {
            "name": "Missing",
            "count": 5
           }
          ]
         }
        },
        {
         "name": "_deepnote_index_column",
         "dtype": "int64"
        }
       ],
       "rows_top": [
        {
         "URL": "http://marvel.wikia.com/Kaluu_(Earth-616)#",
         "nombre": "Kaluu",
         "n_apariciones": "35",
         "actual": "YES",
         "genero": "MALE",
         "Notes": "nan",
         "_deepnote_index_column": "2015"
        },
        {
         "URL": "http://marvel.wikia.com/Sam_Alexander_(Earth-616)#",
         "nombre": "Sam Alexander",
         "n_apariciones": "78",
         "actual": "YES",
         "genero": "MALE",
         "Notes": "nan",
         "_deepnote_index_column": "2015"
        },
        {
         "URL": "http://marvel.wikia.com/Ava_Ayala_(Earth-616)#",
         "nombre": "Ava Ayala",
         "n_apariciones": "49",
         "actual": "YES",
         "genero": "FEMALE",
         "Notes": "nan",
         "_deepnote_index_column": "2014"
        },
        {
         "URL": "http://marvel.wikia.com/Victor_Alvarez_(Earth-616)#",
         "nombre": "Victor Alvarez",
         "n_apariciones": "45",
         "actual": "YES",
         "genero": "MALE",
         "Notes": "nan",
         "_deepnote_index_column": "2014"
        },
        {
         "URL": "http://marvel.wikia.com/Adam_Brashear_(Earth-616)#",
         "nombre": "Adam Brashear",
         "n_apariciones": "29",
         "actual": "YES",
         "genero": "MALE",
         "Notes": "nan",
         "_deepnote_index_column": "2014"
        }
       ],
       "rows_bottom": null
      },
      "text/plain": "                                                            URL  \\\nfecha_inicio                                                      \n2015                 http://marvel.wikia.com/Kaluu_(Earth-616)#   \n2015          http://marvel.wikia.com/Sam_Alexander_(Earth-6...   \n2014             http://marvel.wikia.com/Ava_Ayala_(Earth-616)#   \n2014          http://marvel.wikia.com/Victor_Alvarez_(Earth-...   \n2014          http://marvel.wikia.com/Adam_Brashear_(Earth-6...   \n\n                      nombre  n_apariciones actual  genero Notes  \nfecha_inicio                                                      \n2015                   Kaluu             35    YES    MALE   NaN  \n2015           Sam Alexander             78    YES    MALE   NaN  \n2014               Ava Ayala             49    YES  FEMALE   NaN  \n2014          Victor Alvarez             45    YES    MALE   NaN  \n2014           Adam Brashear             29    YES    MALE   NaN  ",
      "text/html": "<div>\n<style scoped>\n    .dataframe tbody tr th:only-of-type {\n        vertical-align: middle;\n    }\n\n    .dataframe tbody tr th {\n        vertical-align: top;\n    }\n\n    .dataframe thead th {\n        text-align: right;\n    }\n</style>\n<table border=\"1\" class=\"dataframe\">\n  <thead>\n    <tr style=\"text-align: right;\">\n      <th></th>\n      <th>URL</th>\n      <th>nombre</th>\n      <th>n_apariciones</th>\n      <th>actual</th>\n      <th>genero</th>\n      <th>Notes</th>\n    </tr>\n    <tr>\n      <th>fecha_inicio</th>\n      <th></th>\n      <th></th>\n      <th></th>\n      <th></th>\n      <th></th>\n      <th></th>\n    </tr>\n  </thead>\n  <tbody>\n    <tr>\n      <th>2015</th>\n      <td>http://marvel.wikia.com/Kaluu_(Earth-616)#</td>\n      <td>Kaluu</td>\n      <td>35</td>\n      <td>YES</td>\n      <td>MALE</td>\n      <td>NaN</td>\n    </tr>\n    <tr>\n      <th>2015</th>\n      <td>http://marvel.wikia.com/Sam_Alexander_(Earth-6...</td>\n      <td>Sam Alexander</td>\n      <td>78</td>\n      <td>YES</td>\n      <td>MALE</td>\n      <td>NaN</td>\n    </tr>\n    <tr>\n      <th>2014</th>\n      <td>http://marvel.wikia.com/Ava_Ayala_(Earth-616)#</td>\n      <td>Ava Ayala</td>\n      <td>49</td>\n      <td>YES</td>\n      <td>FEMALE</td>\n      <td>NaN</td>\n    </tr>\n    <tr>\n      <th>2014</th>\n      <td>http://marvel.wikia.com/Victor_Alvarez_(Earth-...</td>\n      <td>Victor Alvarez</td>\n      <td>45</td>\n      <td>YES</td>\n      <td>MALE</td>\n      <td>NaN</td>\n    </tr>\n    <tr>\n      <th>2014</th>\n      <td>http://marvel.wikia.com/Adam_Brashear_(Earth-6...</td>\n      <td>Adam Brashear</td>\n      <td>29</td>\n      <td>YES</td>\n      <td>MALE</td>\n      <td>NaN</td>\n    </tr>\n  </tbody>\n</table>\n</div>"
     },
     "metadata": {}
    }
   ]
  },
  {
   "cell_type": "markdown",
   "source": "# Resetear el indice",
   "metadata": {
    "cell_id": "00024-9654eb4a-724f-4658-a96c-f4d6256acd49",
    "deepnote_cell_type": "markdown"
   }
  },
  {
   "cell_type": "code",
   "metadata": {
    "tags": [],
    "cell_id": "00025-52b80202-6ea5-4cf4-8ae3-7763ee54670c",
    "deepnote_to_be_reexecuted": false,
    "source_hash": "4641588b",
    "execution_start": 1634954796520,
    "execution_millis": 11,
    "deepnote_cell_type": "code"
   },
   "source": "# Resetea el índice\n\ndata.reset_index(inplace=True)\ndata.head()",
   "execution_count": 24,
   "outputs": [
    {
     "output_type": "execute_result",
     "execution_count": 24,
     "data": {
      "application/vnd.deepnote.dataframe.v2+json": {
       "row_count": 5,
       "column_count": 7,
       "columns": [
        {
         "name": "fecha_inicio",
         "dtype": "int64",
         "stats": {
          "unique_count": 1,
          "nan_count": 0,
          "min": "1963",
          "max": "1963",
          "histogram": [
           {
            "bin_start": 1962.5,
            "bin_end": 1962.6,
            "count": 0
           },
           {
            "bin_start": 1962.6,
            "bin_end": 1962.7,
            "count": 0
           },
           {
            "bin_start": 1962.7,
            "bin_end": 1962.8,
            "count": 0
           },
           {
            "bin_start": 1962.8,
            "bin_end": 1962.9,
            "count": 0
           },
           {
            "bin_start": 1962.9,
            "bin_end": 1963,
            "count": 0
           },
           {
            "bin_start": 1963,
            "bin_end": 1963.1,
            "count": 5
           },
           {
            "bin_start": 1963.1,
            "bin_end": 1963.2,
            "count": 0
           },
           {
            "bin_start": 1963.2,
            "bin_end": 1963.3,
            "count": 0
           },
           {
            "bin_start": 1963.3,
            "bin_end": 1963.4,
            "count": 0
           },
           {
            "bin_start": 1963.4,
            "bin_end": 1963.5,
            "count": 0
           }
          ]
         }
        },
        {
         "name": "URL",
         "dtype": "object",
         "stats": {
          "unique_count": 5,
          "nan_count": 0,
          "categories": [
           {
            "name": "http://marvel.wikia.com/Henry_Pym_(Earth-616)",
            "count": 1
           },
           {
            "name": "http://marvel.wikia.com/Janet_van_Dyne_(Earth-616)",
            "count": 1
           },
           {
            "name": "3 others",
            "count": 3
           }
          ]
         }
        },
        {
         "name": "nombre",
         "dtype": "object",
         "stats": {
          "unique_count": 5,
          "nan_count": 0,
          "categories": [
           {
            "name": "Henry Jonathan \"Hank\" Pym",
            "count": 1
           },
           {
            "name": "Janet van Dyne",
            "count": 1
           },
           {
            "name": "3 others",
            "count": 3
           }
          ]
         }
        },
        {
         "name": "n_apariciones",
         "dtype": "int64",
         "stats": {
          "unique_count": 5,
          "nan_count": 0,
          "min": "1165",
          "max": "3068",
          "histogram": [
           {
            "bin_start": 1165,
            "bin_end": 1355.3,
            "count": 2
           },
           {
            "bin_start": 1355.3,
            "bin_end": 1545.6,
            "count": 0
           },
           {
            "bin_start": 1545.6,
            "bin_end": 1735.9,
            "count": 0
           },
           {
            "bin_start": 1735.9,
            "bin_end": 1926.2,
            "count": 0
           },
           {
            "bin_start": 1926.2,
            "bin_end": 2116.5,
            "count": 1
           },
           {
            "bin_start": 2116.5,
            "bin_end": 2306.8,
            "count": 0
           },
           {
            "bin_start": 2306.8,
            "bin_end": 2497.1000000000004,
            "count": 1
           },
           {
            "bin_start": 2497.1000000000004,
            "bin_end": 2687.4,
            "count": 0
           },
           {
            "bin_start": 2687.4,
            "bin_end": 2877.7,
            "count": 0
           },
           {
            "bin_start": 2877.7,
            "bin_end": 3068,
            "count": 1
           }
          ]
         }
        },
        {
         "name": "actual",
         "dtype": "object",
         "stats": {
          "unique_count": 1,
          "nan_count": 0,
          "categories": [
           {
            "name": "YES",
            "count": 5
           }
          ]
         }
        },
        {
         "name": "genero",
         "dtype": "object",
         "stats": {
          "unique_count": 2,
          "nan_count": 0,
          "categories": [
           {
            "name": "MALE",
            "count": 4
           },
           {
            "name": "FEMALE",
            "count": 1
           }
          ]
         }
        },
        {
         "name": "Notes",
         "dtype": "object",
         "stats": {
          "unique_count": 5,
          "nan_count": 0,
          "categories": [
           {
            "name": "Merged with Ultron in Rage of Ultron Vol. 1. A funeral was held.",
            "count": 1
           },
           {
            "name": "Dies in Secret Invasion V1:I8. Actually was sent tto Microverse later recovered",
            "count": 1
           },
           {
            "name": "3 others",
            "count": 3
           }
          ]
         }
        },
        {
         "name": "_deepnote_index_column",
         "dtype": "int64"
        }
       ],
       "rows_top": [
        {
         "fecha_inicio": 1963,
         "URL": "http://marvel.wikia.com/Henry_Pym_(Earth-616)",
         "nombre": "Henry Jonathan \"Hank\" Pym",
         "n_apariciones": 1269,
         "actual": "YES",
         "genero": "MALE",
         "Notes": "Merged with Ultron in Rage of Ultron Vol. 1. A funeral was held.",
         "_deepnote_index_column": 0
        },
        {
         "fecha_inicio": 1963,
         "URL": "http://marvel.wikia.com/Janet_van_Dyne_(Earth-616)",
         "nombre": "Janet van Dyne",
         "n_apariciones": 1165,
         "actual": "YES",
         "genero": "FEMALE",
         "Notes": "Dies in Secret Invasion V1:I8. Actually was sent tto Microverse later recovered",
         "_deepnote_index_column": 1
        },
        {
         "fecha_inicio": 1963,
         "URL": "http://marvel.wikia.com/Anthony_Stark_(Earth-616)",
         "nombre": "Anthony Edward \"Tony\" Stark",
         "n_apariciones": 3068,
         "actual": "YES",
         "genero": "MALE",
         "Notes": "Death: \"Later while under the influence of Immortus Stark committed a number of horrible acts and w…",
         "_deepnote_index_column": 2
        },
        {
         "fecha_inicio": 1963,
         "URL": "http://marvel.wikia.com/Robert_Bruce_Banner_(Earth-616)",
         "nombre": "Robert Bruce Banner",
         "n_apariciones": 2089,
         "actual": "YES",
         "genero": "MALE",
         "Notes": "Dies in Ghosts of the Future arc. However \"he had actually used a hidden Pantheon base to survive\"",
         "_deepnote_index_column": 3
        },
        {
         "fecha_inicio": 1963,
         "URL": "http://marvel.wikia.com/Thor_Odinson_(Earth-616)",
         "nombre": "Thor Odinson",
         "n_apariciones": 2402,
         "actual": "YES",
         "genero": "MALE",
         "Notes": "Dies in Fear Itself brought back because that's kind of the whole point. Second death in Time Runs …",
         "_deepnote_index_column": 4
        }
       ],
       "rows_bottom": null
      },
      "text/plain": "   fecha_inicio                                                URL  \\\n0          1963      http://marvel.wikia.com/Henry_Pym_(Earth-616)   \n1          1963  http://marvel.wikia.com/Janet_van_Dyne_(Earth-...   \n2          1963  http://marvel.wikia.com/Anthony_Stark_(Earth-616)   \n3          1963  http://marvel.wikia.com/Robert_Bruce_Banner_(E...   \n4          1963   http://marvel.wikia.com/Thor_Odinson_(Earth-616)   \n\n                        nombre  n_apariciones actual  genero  \\\n0    Henry Jonathan \"Hank\" Pym           1269    YES    MALE   \n1               Janet van Dyne           1165    YES  FEMALE   \n2  Anthony Edward \"Tony\" Stark           3068    YES    MALE   \n3          Robert Bruce Banner           2089    YES    MALE   \n4                 Thor Odinson           2402    YES    MALE   \n\n                                               Notes  \n0  Merged with Ultron in Rage of Ultron Vol. 1. A...  \n1  Dies in Secret Invasion V1:I8. Actually was se...  \n2  Death: \"Later while under the influence of Imm...  \n3  Dies in Ghosts of the Future arc. However \"he ...  \n4  Dies in Fear Itself brought back because that'...  ",
      "text/html": "<div>\n<style scoped>\n    .dataframe tbody tr th:only-of-type {\n        vertical-align: middle;\n    }\n\n    .dataframe tbody tr th {\n        vertical-align: top;\n    }\n\n    .dataframe thead th {\n        text-align: right;\n    }\n</style>\n<table border=\"1\" class=\"dataframe\">\n  <thead>\n    <tr style=\"text-align: right;\">\n      <th></th>\n      <th>fecha_inicio</th>\n      <th>URL</th>\n      <th>nombre</th>\n      <th>n_apariciones</th>\n      <th>actual</th>\n      <th>genero</th>\n      <th>Notes</th>\n    </tr>\n  </thead>\n  <tbody>\n    <tr>\n      <th>0</th>\n      <td>1963</td>\n      <td>http://marvel.wikia.com/Henry_Pym_(Earth-616)</td>\n      <td>Henry Jonathan \"Hank\" Pym</td>\n      <td>1269</td>\n      <td>YES</td>\n      <td>MALE</td>\n      <td>Merged with Ultron in Rage of Ultron Vol. 1. A...</td>\n    </tr>\n    <tr>\n      <th>1</th>\n      <td>1963</td>\n      <td>http://marvel.wikia.com/Janet_van_Dyne_(Earth-...</td>\n      <td>Janet van Dyne</td>\n      <td>1165</td>\n      <td>YES</td>\n      <td>FEMALE</td>\n      <td>Dies in Secret Invasion V1:I8. Actually was se...</td>\n    </tr>\n    <tr>\n      <th>2</th>\n      <td>1963</td>\n      <td>http://marvel.wikia.com/Anthony_Stark_(Earth-616)</td>\n      <td>Anthony Edward \"Tony\" Stark</td>\n      <td>3068</td>\n      <td>YES</td>\n      <td>MALE</td>\n      <td>Death: \"Later while under the influence of Imm...</td>\n    </tr>\n    <tr>\n      <th>3</th>\n      <td>1963</td>\n      <td>http://marvel.wikia.com/Robert_Bruce_Banner_(E...</td>\n      <td>Robert Bruce Banner</td>\n      <td>2089</td>\n      <td>YES</td>\n      <td>MALE</td>\n      <td>Dies in Ghosts of the Future arc. However \"he ...</td>\n    </tr>\n    <tr>\n      <th>4</th>\n      <td>1963</td>\n      <td>http://marvel.wikia.com/Thor_Odinson_(Earth-616)</td>\n      <td>Thor Odinson</td>\n      <td>2402</td>\n      <td>YES</td>\n      <td>MALE</td>\n      <td>Dies in Fear Itself brought back because that'...</td>\n    </tr>\n  </tbody>\n</table>\n</div>"
     },
     "metadata": {}
    }
   ]
  },
  {
   "cell_type": "markdown",
   "source": "<a style='text-decoration:none;line-height:16px;display:flex;color:#5B5B62;padding:10px;justify-content:end;' href='https://deepnote.com?utm_source=created-in-deepnote-cell&projectId=ad7c6716-f1ab-4c5a-ae5f-98d40e105581' target=\"_blank\">\n<img alt='Created in deepnote.com' style='display:inline;max-height:16px;margin:0px;margin-right:7.5px;' src='data:image/svg+xml;base64,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' > </img>\nCreated in <span style='font-weight:600;margin-left:4px;'>Deepnote</span></a>",
   "metadata": {
    "tags": [],
    "created_in_deepnote_cell": true,
    "deepnote_cell_type": "markdown"
   }
  }
 ],
 "nbformat": 4,
 "nbformat_minor": 4,
 "metadata": {
  "kernelspec": {
   "display_name": "Python 3 (ipykernel)",
   "language": "python",
   "name": "python3"
  },
  "language_info": {
   "codemirror_mode": {
    "name": "ipython",
    "version": 3
   },
   "file_extension": ".py",
   "mimetype": "text/x-python",
   "name": "python",
   "nbconvert_exporter": "python",
   "pygments_lexer": "ipython3",
   "version": "3.8.8"
  },
  "deepnote_notebook_id": "172816d1-55ec-4d31-8e1e-ca7ba90c5e2e",
  "deepnote": {},
  "deepnote_execution_queue": []
 }
}