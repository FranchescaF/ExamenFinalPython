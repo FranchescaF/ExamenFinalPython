{
 "cells": [
  {
   "cell_type": "markdown",
   "source": "# Ejercicio - Busqueda de Alojamiento en Airbnb.\n\nSupongamos que somos un agente de [Airbnb](http://www.airbnb.com) localizado en Lisboa, y tenemos que atender peticiones de varios clientes. Tenemos un archivo llamado `airbnb.csv` (en la carpeta data) donde tenemos información de todos los alojamientos de Airbnb en Lisboa.",
   "metadata": {
    "cell_id": "00000-755c2f1e-312b-4e3e-a00f-1fa5f5c1f9f3",
    "deepnote_cell_type": "markdown"
   }
  },
  {
   "cell_type": "code",
   "metadata": {
    "cell_id": "00001-40a86072-dbec-42b5-a811-fbdcf02784a2",
    "deepnote_to_be_reexecuted": false,
    "source_hash": "7d4439bb",
    "execution_start": 1634969346558,
    "execution_millis": 32,
    "deepnote_cell_type": "code"
   },
   "source": "import pandas as pd\ndf_airbnb = pd.read_csv(\"airbnb.csv\")",
   "execution_count": 2,
   "outputs": []
  },
  {
   "cell_type": "code",
   "metadata": {
    "cell_id": "00002-7579af9e-43df-4ad5-a996-39bc404d1f24",
    "deepnote_to_be_reexecuted": false,
    "source_hash": "431ee153",
    "execution_start": 1634955370408,
    "execution_millis": 28,
    "deepnote_cell_type": "code"
   },
   "source": "df_airbnb.head()",
   "outputs": [
    {
     "output_type": "execute_result",
     "execution_count": 2,
     "data": {
      "application/vnd.deepnote.dataframe.v2+json": {
       "row_count": 5,
       "column_count": 9,
       "columns": [
        {
         "name": "room_id",
         "dtype": "int64",
         "stats": {
          "unique_count": 5,
          "nan_count": 0,
          "min": "6499",
          "max": "29396",
          "histogram": [
           {
            "bin_start": 6499,
            "bin_end": 8788.7,
            "count": 1
           },
           {
            "bin_start": 8788.7,
            "bin_end": 11078.4,
            "count": 0
           },
           {
            "bin_start": 11078.4,
            "bin_end": 13368.099999999999,
            "count": 0
           },
           {
            "bin_start": 13368.099999999999,
            "bin_end": 15657.8,
            "count": 0
           },
           {
            "bin_start": 15657.8,
            "bin_end": 17947.5,
            "count": 1
           },
           {
            "bin_start": 17947.5,
            "bin_end": 20237.199999999997,
            "count": 0
           },
           {
            "bin_start": 20237.199999999997,
            "bin_end": 22526.899999999998,
            "count": 0
           },
           {
            "bin_start": 22526.899999999998,
            "bin_end": 24816.6,
            "count": 0
           },
           {
            "bin_start": 24816.6,
            "bin_end": 27106.3,
            "count": 1
           },
           {
            "bin_start": 27106.3,
            "bin_end": 29396,
            "count": 2
           }
          ]
         }
        },
        {
         "name": "host_id",
         "dtype": "int64",
         "stats": {
          "unique_count": 5,
          "nan_count": 0,
          "min": "14455",
          "max": "126415",
          "histogram": [
           {
            "bin_start": 14455,
            "bin_end": 25651,
            "count": 1
           },
           {
            "bin_start": 25651,
            "bin_end": 36847,
            "count": 0
           },
           {
            "bin_start": 36847,
            "bin_end": 48043,
            "count": 0
           },
           {
            "bin_start": 48043,
            "bin_end": 59239,
            "count": 0
           },
           {
            "bin_start": 59239,
            "bin_end": 70435,
            "count": 1
           },
           {
            "bin_start": 70435,
            "bin_end": 81631,
            "count": 0
           },
           {
            "bin_start": 81631,
            "bin_end": 92827,
            "count": 0
           },
           {
            "bin_start": 92827,
            "bin_end": 104023,
            "count": 0
           },
           {
            "bin_start": 104023,
            "bin_end": 115219,
            "count": 1
           },
           {
            "bin_start": 115219,
            "bin_end": 126415,
            "count": 2
           }
          ]
         }
        },
        {
         "name": "room_type",
         "dtype": "object",
         "stats": {
          "unique_count": 1,
          "nan_count": 0,
          "categories": [
           {
            "name": "Entire home/apt",
            "count": 5
           }
          ]
         }
        },
        {
         "name": "neighborhood",
         "dtype": "object",
         "stats": {
          "unique_count": 3,
          "nan_count": 0,
          "categories": [
           {
            "name": "Santa Maria Maior",
            "count": 3
           },
           {
            "name": "Belém",
            "count": 1
           },
           {
            "name": "Alvalade",
            "count": 1
           }
          ]
         }
        },
        {
         "name": "reviews",
         "dtype": "int64",
         "stats": {
          "unique_count": 5,
          "nan_count": 0,
          "min": "0",
          "max": "225",
          "histogram": [
           {
            "bin_start": 0,
            "bin_end": 22.5,
            "count": 2
           },
           {
            "bin_start": 22.5,
            "bin_end": 45,
            "count": 0
           },
           {
            "bin_start": 45,
            "bin_end": 67.5,
            "count": 1
           },
           {
            "bin_start": 67.5,
            "bin_end": 90,
            "count": 0
           },
           {
            "bin_start": 90,
            "bin_end": 112.5,
            "count": 0
           },
           {
            "bin_start": 112.5,
            "bin_end": 135,
            "count": 1
           },
           {
            "bin_start": 135,
            "bin_end": 157.5,
            "count": 0
           },
           {
            "bin_start": 157.5,
            "bin_end": 180,
            "count": 0
           },
           {
            "bin_start": 180,
            "bin_end": 202.5,
            "count": 0
           },
           {
            "bin_start": 202.5,
            "bin_end": 225,
            "count": 1
           }
          ]
         }
        },
        {
         "name": "overall_satisfaction",
         "dtype": "float64",
         "stats": {
          "unique_count": 3,
          "nan_count": 0,
          "min": "0.0",
          "max": "5.0",
          "histogram": [
           {
            "bin_start": 0,
            "bin_end": 0.5,
            "count": 1
           },
           {
            "bin_start": 0.5,
            "bin_end": 1,
            "count": 0
           },
           {
            "bin_start": 1,
            "bin_end": 1.5,
            "count": 0
           },
           {
            "bin_start": 1.5,
            "bin_end": 2,
            "count": 0
           },
           {
            "bin_start": 2,
            "bin_end": 2.5,
            "count": 0
           },
           {
            "bin_start": 2.5,
            "bin_end": 3,
            "count": 0
           },
           {
            "bin_start": 3,
            "bin_end": 3.5,
            "count": 0
           },
           {
            "bin_start": 3.5,
            "bin_end": 4,
            "count": 0
           },
           {
            "bin_start": 4,
            "bin_end": 4.5,
            "count": 0
           },
           {
            "bin_start": 4.5,
            "bin_end": 5,
            "count": 4
           }
          ]
         }
        },
        {
         "name": "accommodates",
         "dtype": "int64",
         "stats": {
          "unique_count": 3,
          "nan_count": 0,
          "min": "2",
          "max": "4",
          "histogram": [
           {
            "bin_start": 2,
            "bin_end": 2.2,
            "count": 2
           },
           {
            "bin_start": 2.2,
            "bin_end": 2.4,
            "count": 0
           },
           {
            "bin_start": 2.4,
            "bin_end": 2.6,
            "count": 0
           },
           {
            "bin_start": 2.6,
            "bin_end": 2.8,
            "count": 0
           },
           {
            "bin_start": 2.8,
            "bin_end": 3,
            "count": 0
           },
           {
            "bin_start": 3,
            "bin_end": 3.2,
            "count": 1
           },
           {
            "bin_start": 3.2,
            "bin_end": 3.4000000000000004,
            "count": 0
           },
           {
            "bin_start": 3.4000000000000004,
            "bin_end": 3.6,
            "count": 0
           },
           {
            "bin_start": 3.6,
            "bin_end": 3.8,
            "count": 0
           },
           {
            "bin_start": 3.8,
            "bin_end": 4,
            "count": 2
           }
          ]
         }
        },
        {
         "name": "bedrooms",
         "dtype": "float64",
         "stats": {
          "unique_count": 1,
          "nan_count": 0,
          "min": "1.0",
          "max": "1.0",
          "histogram": [
           {
            "bin_start": 0.5,
            "bin_end": 0.6,
            "count": 0
           },
           {
            "bin_start": 0.6,
            "bin_end": 0.7,
            "count": 0
           },
           {
            "bin_start": 0.7,
            "bin_end": 0.8,
            "count": 0
           },
           {
            "bin_start": 0.8,
            "bin_end": 0.9,
            "count": 0
           },
           {
            "bin_start": 0.9,
            "bin_end": 1,
            "count": 0
           },
           {
            "bin_start": 1,
            "bin_end": 1.1,
            "count": 5
           },
           {
            "bin_start": 1.1,
            "bin_end": 1.2000000000000002,
            "count": 0
           },
           {
            "bin_start": 1.2000000000000002,
            "bin_end": 1.3,
            "count": 0
           },
           {
            "bin_start": 1.3,
            "bin_end": 1.4,
            "count": 0
           },
           {
            "bin_start": 1.4,
            "bin_end": 1.5,
            "count": 0
           }
          ]
         }
        },
        {
         "name": "price",
         "dtype": "float64",
         "stats": {
          "unique_count": 5,
          "nan_count": 0,
          "min": "46.0",
          "max": "69.0",
          "histogram": [
           {
            "bin_start": 46,
            "bin_end": 48.3,
            "count": 1
           },
           {
            "bin_start": 48.3,
            "bin_end": 50.6,
            "count": 0
           },
           {
            "bin_start": 50.6,
            "bin_end": 52.9,
            "count": 0
           },
           {
            "bin_start": 52.9,
            "bin_end": 55.2,
            "count": 0
           },
           {
            "bin_start": 55.2,
            "bin_end": 57.5,
            "count": 1
           },
           {
            "bin_start": 57.5,
            "bin_end": 59.8,
            "count": 1
           },
           {
            "bin_start": 59.8,
            "bin_end": 62.099999999999994,
            "count": 0
           },
           {
            "bin_start": 62.099999999999994,
            "bin_end": 64.4,
            "count": 0
           },
           {
            "bin_start": 64.4,
            "bin_end": 66.7,
            "count": 0
           },
           {
            "bin_start": 66.7,
            "bin_end": 69,
            "count": 2
           }
          ]
         }
        },
        {
         "name": "_deepnote_index_column",
         "dtype": "int64"
        }
       ],
       "rows_top": [
        {
         "room_id": 6499,
         "host_id": 14455,
         "room_type": "Entire home/apt",
         "neighborhood": "Belém",
         "reviews": 8,
         "overall_satisfaction": 5,
         "accommodates": 2,
         "bedrooms": 1,
         "price": 57,
         "_deepnote_index_column": 0
        },
        {
         "room_id": 17031,
         "host_id": 66015,
         "room_type": "Entire home/apt",
         "neighborhood": "Alvalade",
         "reviews": 0,
         "overall_satisfaction": 0,
         "accommodates": 2,
         "bedrooms": 1,
         "price": 46,
         "_deepnote_index_column": 1
        },
        {
         "room_id": 25659,
         "host_id": 107347,
         "room_type": "Entire home/apt",
         "neighborhood": "Santa Maria Maior",
         "reviews": 63,
         "overall_satisfaction": 5,
         "accommodates": 3,
         "bedrooms": 1,
         "price": 69,
         "_deepnote_index_column": 2
        },
        {
         "room_id": 29248,
         "host_id": 125768,
         "room_type": "Entire home/apt",
         "neighborhood": "Santa Maria Maior",
         "reviews": 225,
         "overall_satisfaction": 4.5,
         "accommodates": 4,
         "bedrooms": 1,
         "price": 58,
         "_deepnote_index_column": 3
        },
        {
         "room_id": 29396,
         "host_id": 126415,
         "room_type": "Entire home/apt",
         "neighborhood": "Santa Maria Maior",
         "reviews": 132,
         "overall_satisfaction": 5,
         "accommodates": 4,
         "bedrooms": 1,
         "price": 67,
         "_deepnote_index_column": 4
        }
       ],
       "rows_bottom": null
      },
      "text/plain": "   room_id  host_id        room_type       neighborhood  reviews  \\\n0     6499    14455  Entire home/apt              Belém        8   \n1    17031    66015  Entire home/apt           Alvalade        0   \n2    25659   107347  Entire home/apt  Santa Maria Maior       63   \n3    29248   125768  Entire home/apt  Santa Maria Maior      225   \n4    29396   126415  Entire home/apt  Santa Maria Maior      132   \n\n   overall_satisfaction  accommodates  bedrooms  price  \n0                   5.0             2       1.0   57.0  \n1                   0.0             2       1.0   46.0  \n2                   5.0             3       1.0   69.0  \n3                   4.5             4       1.0   58.0  \n4                   5.0             4       1.0   67.0  ",
      "text/html": "<div>\n<style scoped>\n    .dataframe tbody tr th:only-of-type {\n        vertical-align: middle;\n    }\n\n    .dataframe tbody tr th {\n        vertical-align: top;\n    }\n\n    .dataframe thead th {\n        text-align: right;\n    }\n</style>\n<table border=\"1\" class=\"dataframe\">\n  <thead>\n    <tr style=\"text-align: right;\">\n      <th></th>\n      <th>room_id</th>\n      <th>host_id</th>\n      <th>room_type</th>\n      <th>neighborhood</th>\n      <th>reviews</th>\n      <th>overall_satisfaction</th>\n      <th>accommodates</th>\n      <th>bedrooms</th>\n      <th>price</th>\n    </tr>\n  </thead>\n  <tbody>\n    <tr>\n      <th>0</th>\n      <td>6499</td>\n      <td>14455</td>\n      <td>Entire home/apt</td>\n      <td>Belém</td>\n      <td>8</td>\n      <td>5.0</td>\n      <td>2</td>\n      <td>1.0</td>\n      <td>57.0</td>\n    </tr>\n    <tr>\n      <th>1</th>\n      <td>17031</td>\n      <td>66015</td>\n      <td>Entire home/apt</td>\n      <td>Alvalade</td>\n      <td>0</td>\n      <td>0.0</td>\n      <td>2</td>\n      <td>1.0</td>\n      <td>46.0</td>\n    </tr>\n    <tr>\n      <th>2</th>\n      <td>25659</td>\n      <td>107347</td>\n      <td>Entire home/apt</td>\n      <td>Santa Maria Maior</td>\n      <td>63</td>\n      <td>5.0</td>\n      <td>3</td>\n      <td>1.0</td>\n      <td>69.0</td>\n    </tr>\n    <tr>\n      <th>3</th>\n      <td>29248</td>\n      <td>125768</td>\n      <td>Entire home/apt</td>\n      <td>Santa Maria Maior</td>\n      <td>225</td>\n      <td>4.5</td>\n      <td>4</td>\n      <td>1.0</td>\n      <td>58.0</td>\n    </tr>\n    <tr>\n      <th>4</th>\n      <td>29396</td>\n      <td>126415</td>\n      <td>Entire home/apt</td>\n      <td>Santa Maria Maior</td>\n      <td>132</td>\n      <td>5.0</td>\n      <td>4</td>\n      <td>1.0</td>\n      <td>67.0</td>\n    </tr>\n  </tbody>\n</table>\n</div>"
     },
     "metadata": {}
    }
   ],
   "execution_count": null
  },
  {
   "cell_type": "code",
   "metadata": {
    "cell_id": "00003-557b0cbc-d52d-404b-9ea9-3a6cdba001bd",
    "deepnote_to_be_reexecuted": false,
    "source_hash": "2e653780",
    "execution_start": 1634955391481,
    "execution_millis": 6,
    "deepnote_cell_type": "code"
   },
   "source": "df_airbnb.dtypes",
   "outputs": [
    {
     "output_type": "execute_result",
     "execution_count": 3,
     "data": {
      "text/plain": "room_id                   int64\nhost_id                   int64\nroom_type                object\nneighborhood             object\nreviews                   int64\noverall_satisfaction    float64\naccommodates              int64\nbedrooms                float64\nprice                   float64\ndtype: object"
     },
     "metadata": {}
    }
   ],
   "execution_count": null
  },
  {
   "cell_type": "markdown",
   "source": "En concreto el dataset tiene las siguientes variables:\n- room_id: el identificador de la propiedad\n- host_id: el identificador del dueño de la propiedad\n- room_type: tipo de propiedad (vivienda completa/(habitacion para compartir/habitación privada)\n- neighborhood: el barrio de Lisboa\n- reviews: El numero de opiniones\n- overall_satisfaction: Puntuacion media del apartamento\n- accommodates: El numero de personas que se pueden alojar en la propiedad\n- bedrooms: El número de habitaciones\n- price: El precio (en euros) por noche",
   "metadata": {
    "cell_id": "00004-87e75e19-16a1-4c4a-b1a3-0072a2e6e89b",
    "deepnote_cell_type": "markdown"
   }
  },
  {
   "cell_type": "markdown",
   "source": "## Usando Pandas",
   "metadata": {
    "cell_id": "00005-623ef64b-21c7-44ca-b785-c2c3602d5644",
    "deepnote_cell_type": "markdown"
   }
  },
  {
   "cell_type": "markdown",
   "source": "### Caso 1.\n\nAlicia va a ir a Lisboa durante una semana con su marido y sus 2 hijos. Están buscando un apartamento con habitaciones separadas para los padres y los hijos. No les importa donde alojarse o el precio, simplemente quieren tener una experiencia agradable. Esto significa que solo aceptan lugares con más de 10 críticas con una puntuación mayor de 4. Cuando seleccionemos habitaciones para Alicia, tenemos que asegurarnos de ordenar las habitaciones de mejor a peor puntuación. Para aquellas habitaciones que tienen la misma puntuación, debemos mostrar antes aquellas con más críticas. Debemos darle 3 alternativas.",
   "metadata": {
    "cell_id": "00006-d7e7c084-bbd3-4544-a441-93c4e5529b48",
    "deepnote_cell_type": "markdown"
   }
  },
  {
   "cell_type": "code",
   "metadata": {
    "cell_id": "00007-b70d547c-6dd1-4021-be31-91ff0b9f9813",
    "deepnote_to_be_reexecuted": false,
    "source_hash": "7dc77b60",
    "execution_start": 1634971186049,
    "execution_millis": 60,
    "deepnote_cell_type": "code"
   },
   "source": "#Primero eligo los datos que tienen mas de 10 criticas y puntuacion mayor de 4\n#f1= df_airbnb.query('reviews>10 and overall_satisfaction>4')\n\n#Segundo defino como la puntuacion como el indice del dataframe\n#df1.set_index('overall_satisfaction',inplace=True)\n\n#Tercero ordeno el dataframe de mayor puntuacion a menor\ndf2 = df1.sort_index(ascending=False)\n\n#Cuarto reviso que solo tiene indices(puntuaciones) como mayor numero al 5\n#df2.index\n#Como la puntuacion maxima que se repite es de 5, solo tomare de ellos y los ordenare por review\ndf3 = df2.query('index==5')\n\n#Quinto ordeno las opciones por mayor numero de criticas(reviews)\ndf4 = df3.sort_values(by='reviews', ascending=False)\n\n#Sexto muestro solo las 3 primeras opciones\ndf4.head(3)",
   "execution_count": 21,
   "outputs": [
    {
     "output_type": "execute_result",
     "execution_count": 21,
     "data": {
      "application/vnd.deepnote.dataframe.v2+json": {
       "row_count": 3,
       "column_count": 8,
       "columns": [
        {
         "name": "room_id",
         "dtype": "int64",
         "stats": {
          "unique_count": 3,
          "nan_count": 0,
          "min": "176153",
          "max": "1085634",
          "histogram": [
           {
            "bin_start": 176153,
            "bin_end": 267101.1,
            "count": 1
           },
           {
            "bin_start": 267101.1,
            "bin_end": 358049.2,
            "count": 1
           },
           {
            "bin_start": 358049.2,
            "bin_end": 448997.30000000005,
            "count": 0
           },
           {
            "bin_start": 448997.30000000005,
            "bin_end": 539945.4,
            "count": 0
           },
           {
            "bin_start": 539945.4,
            "bin_end": 630893.5,
            "count": 0
           },
           {
            "bin_start": 630893.5,
            "bin_end": 721841.6000000001,
            "count": 0
           },
           {
            "bin_start": 721841.6000000001,
            "bin_end": 812789.7000000001,
            "count": 0
           },
           {
            "bin_start": 812789.7000000001,
            "bin_end": 903737.8,
            "count": 0
           },
           {
            "bin_start": 903737.8,
            "bin_end": 994685.9,
            "count": 0
           },
           {
            "bin_start": 994685.9,
            "bin_end": 1085634,
            "count": 1
           }
          ]
         }
        },
        {
         "name": "host_id",
         "dtype": "int64",
         "stats": {
          "unique_count": 3,
          "nan_count": 0,
          "min": "199452",
          "max": "5968047",
          "histogram": [
           {
            "bin_start": 199452,
            "bin_end": 776311.5,
            "count": 1
           },
           {
            "bin_start": 776311.5,
            "bin_end": 1353171,
            "count": 1
           },
           {
            "bin_start": 1353171,
            "bin_end": 1930030.5,
            "count": 0
           },
           {
            "bin_start": 1930030.5,
            "bin_end": 2506890,
            "count": 0
           },
           {
            "bin_start": 2506890,
            "bin_end": 3083749.5,
            "count": 0
           },
           {
            "bin_start": 3083749.5,
            "bin_end": 3660609,
            "count": 0
           },
           {
            "bin_start": 3660609,
            "bin_end": 4237468.5,
            "count": 0
           },
           {
            "bin_start": 4237468.5,
            "bin_end": 4814328,
            "count": 0
           },
           {
            "bin_start": 4814328,
            "bin_end": 5391187.5,
            "count": 0
           },
           {
            "bin_start": 5391187.5,
            "bin_end": 5968047,
            "count": 1
           }
          ]
         }
        },
        {
         "name": "room_type",
         "dtype": "object",
         "stats": {
          "unique_count": 1,
          "nan_count": 0,
          "categories": [
           {
            "name": "Entire home/apt",
            "count": 3
           }
          ]
         }
        },
        {
         "name": "neighborhood",
         "dtype": "object",
         "stats": {
          "unique_count": 2,
          "nan_count": 0,
          "categories": [
           {
            "name": "Misericórdia",
            "count": 2
           },
           {
            "name": "Santo António",
            "count": 1
           }
          ]
         }
        },
        {
         "name": "reviews",
         "dtype": "int64",
         "stats": {
          "unique_count": 3,
          "nan_count": 0,
          "min": "337",
          "max": "438",
          "histogram": [
           {
            "bin_start": 337,
            "bin_end": 347.1,
            "count": 1
           },
           {
            "bin_start": 347.1,
            "bin_end": 357.2,
            "count": 0
           },
           {
            "bin_start": 357.2,
            "bin_end": 367.3,
            "count": 0
           },
           {
            "bin_start": 367.3,
            "bin_end": 377.4,
            "count": 0
           },
           {
            "bin_start": 377.4,
            "bin_end": 387.5,
            "count": 1
           },
           {
            "bin_start": 387.5,
            "bin_end": 397.6,
            "count": 0
           },
           {
            "bin_start": 397.6,
            "bin_end": 407.7,
            "count": 0
           },
           {
            "bin_start": 407.7,
            "bin_end": 417.8,
            "count": 0
           },
           {
            "bin_start": 417.8,
            "bin_end": 427.9,
            "count": 0
           },
           {
            "bin_start": 427.9,
            "bin_end": 438,
            "count": 1
           }
          ]
         }
        },
        {
         "name": "accommodates",
         "dtype": "int64",
         "stats": {
          "unique_count": 2,
          "nan_count": 0,
          "min": "2",
          "max": "4",
          "histogram": [
           {
            "bin_start": 2,
            "bin_end": 2.2,
            "count": 2
           },
           {
            "bin_start": 2.2,
            "bin_end": 2.4,
            "count": 0
           },
           {
            "bin_start": 2.4,
            "bin_end": 2.6,
            "count": 0
           },
           {
            "bin_start": 2.6,
            "bin_end": 2.8,
            "count": 0
           },
           {
            "bin_start": 2.8,
            "bin_end": 3,
            "count": 0
           },
           {
            "bin_start": 3,
            "bin_end": 3.2,
            "count": 0
           },
           {
            "bin_start": 3.2,
            "bin_end": 3.4000000000000004,
            "count": 0
           },
           {
            "bin_start": 3.4000000000000004,
            "bin_end": 3.6,
            "count": 0
           },
           {
            "bin_start": 3.6,
            "bin_end": 3.8,
            "count": 0
           },
           {
            "bin_start": 3.8,
            "bin_end": 4,
            "count": 1
           }
          ]
         }
        },
        {
         "name": "bedrooms",
         "dtype": "float64",
         "stats": {
          "unique_count": 2,
          "nan_count": 0,
          "min": "1.0",
          "max": "2.0",
          "histogram": [
           {
            "bin_start": 1,
            "bin_end": 1.1,
            "count": 2
           },
           {
            "bin_start": 1.1,
            "bin_end": 1.2,
            "count": 0
           },
           {
            "bin_start": 1.2,
            "bin_end": 1.3,
            "count": 0
           },
           {
            "bin_start": 1.3,
            "bin_end": 1.4,
            "count": 0
           },
           {
            "bin_start": 1.4,
            "bin_end": 1.5,
            "count": 0
           },
           {
            "bin_start": 1.5,
            "bin_end": 1.6,
            "count": 0
           },
           {
            "bin_start": 1.6,
            "bin_end": 1.7000000000000002,
            "count": 0
           },
           {
            "bin_start": 1.7000000000000002,
            "bin_end": 1.8,
            "count": 0
           },
           {
            "bin_start": 1.8,
            "bin_end": 1.9,
            "count": 0
           },
           {
            "bin_start": 1.9,
            "bin_end": 2,
            "count": 1
           }
          ]
         }
        },
        {
         "name": "price",
         "dtype": "float64",
         "stats": {
          "unique_count": 3,
          "nan_count": 0,
          "min": "52.0",
          "max": "102.0",
          "histogram": [
           {
            "bin_start": 52,
            "bin_end": 57,
            "count": 1
           },
           {
            "bin_start": 57,
            "bin_end": 62,
            "count": 0
           },
           {
            "bin_start": 62,
            "bin_end": 67,
            "count": 0
           },
           {
            "bin_start": 67,
            "bin_end": 72,
            "count": 0
           },
           {
            "bin_start": 72,
            "bin_end": 77,
            "count": 0
           },
           {
            "bin_start": 77,
            "bin_end": 82,
            "count": 0
           },
           {
            "bin_start": 82,
            "bin_end": 87,
            "count": 0
           },
           {
            "bin_start": 87,
            "bin_end": 92,
            "count": 1
           },
           {
            "bin_start": 92,
            "bin_end": 97,
            "count": 0
           },
           {
            "bin_start": 97,
            "bin_end": 102,
            "count": 1
           }
          ]
         }
        },
        {
         "name": "_deepnote_index_column",
         "dtype": "float64"
        }
       ],
       "rows_top": [
        {
         "room_id": "176153",
         "host_id": "842219",
         "room_type": "Entire home/apt",
         "neighborhood": "Misericórdia",
         "reviews": "438",
         "accommodates": "4",
         "bedrooms": "2.0",
         "price": "102.0",
         "_deepnote_index_column": "5.0"
        },
        {
         "room_id": "1085634",
         "host_id": "5968047",
         "room_type": "Entire home/apt",
         "neighborhood": "Misericórdia",
         "reviews": "379",
         "accommodates": "2",
         "bedrooms": "1.0",
         "price": "52.0",
         "_deepnote_index_column": "5.0"
        },
        {
         "room_id": "299321",
         "host_id": "199452",
         "room_type": "Entire home/apt",
         "neighborhood": "Santo António",
         "reviews": "337",
         "accommodates": "2",
         "bedrooms": "1.0",
         "price": "87.0",
         "_deepnote_index_column": "5.0"
        }
       ],
       "rows_bottom": null
      },
      "text/plain": "                      room_id  host_id        room_type   neighborhood  \\\noverall_satisfaction                                                     \n5.0                    176153   842219  Entire home/apt   Misericórdia   \n5.0                   1085634  5968047  Entire home/apt   Misericórdia   \n5.0                    299321   199452  Entire home/apt  Santo António   \n\n                      reviews  accommodates  bedrooms  price  \noverall_satisfaction                                          \n5.0                       438             4       2.0  102.0  \n5.0                       379             2       1.0   52.0  \n5.0                       337             2       1.0   87.0  ",
      "text/html": "<div>\n<style scoped>\n    .dataframe tbody tr th:only-of-type {\n        vertical-align: middle;\n    }\n\n    .dataframe tbody tr th {\n        vertical-align: top;\n    }\n\n    .dataframe thead th {\n        text-align: right;\n    }\n</style>\n<table border=\"1\" class=\"dataframe\">\n  <thead>\n    <tr style=\"text-align: right;\">\n      <th></th>\n      <th>room_id</th>\n      <th>host_id</th>\n      <th>room_type</th>\n      <th>neighborhood</th>\n      <th>reviews</th>\n      <th>accommodates</th>\n      <th>bedrooms</th>\n      <th>price</th>\n    </tr>\n    <tr>\n      <th>overall_satisfaction</th>\n      <th></th>\n      <th></th>\n      <th></th>\n      <th></th>\n      <th></th>\n      <th></th>\n      <th></th>\n      <th></th>\n    </tr>\n  </thead>\n  <tbody>\n    <tr>\n      <th>5.0</th>\n      <td>176153</td>\n      <td>842219</td>\n      <td>Entire home/apt</td>\n      <td>Misericórdia</td>\n      <td>438</td>\n      <td>4</td>\n      <td>2.0</td>\n      <td>102.0</td>\n    </tr>\n    <tr>\n      <th>5.0</th>\n      <td>1085634</td>\n      <td>5968047</td>\n      <td>Entire home/apt</td>\n      <td>Misericórdia</td>\n      <td>379</td>\n      <td>2</td>\n      <td>1.0</td>\n      <td>52.0</td>\n    </tr>\n    <tr>\n      <th>5.0</th>\n      <td>299321</td>\n      <td>199452</td>\n      <td>Entire home/apt</td>\n      <td>Santo António</td>\n      <td>337</td>\n      <td>2</td>\n      <td>1.0</td>\n      <td>87.0</td>\n    </tr>\n  </tbody>\n</table>\n</div>"
     },
     "metadata": {}
    }
   ]
  },
  {
   "cell_type": "markdown",
   "source": "### Caso 2\n\nRoberto es un casero que tiene una casa en Airbnb. De vez en cuando nos llama preguntando sobre cuales son las críticas de su alojamiento. Hoy está particularmente enfadado, ya que su hermana Clara ha puesto una casa en Airbnb y Roberto quiere asegurarse de que su casa tiene más críticas que las de Clara. Tenemos que crear un dataframe con las propiedades de ambos. Las id de las casas de Roberto y Clara son 97503 y 90387  respectivamente. Finalmente guardamos este dataframe como excel llamado \"roberto.xls",
   "metadata": {
    "cell_id": "00008-6b87185e-dc8a-40b1-9558-b7a1e34a6055",
    "deepnote_cell_type": "markdown"
   }
  },
  {
   "cell_type": "code",
   "metadata": {
    "tags": [],
    "cell_id": "00009-3ea8e4fb-3468-4e94-a6d4-b850006302c3",
    "deepnote_cell_type": "code"
   },
   "source": "",
   "execution_count": null,
   "outputs": []
  },
  {
   "cell_type": "markdown",
   "source": "\n### Caso 3\n\nDiana va a Lisboa a pasar 3 noches y quiere conocer a gente nueva. Tiene un presupuesto de 50€ para su alojamiento. Debemos buscarle las 10 propiedades más baratas, dandole preferencia a aquellas que sean habitaciones compartidas *(room_type == Shared room)*, y para aquellas viviendas compartidas debemos elegir aquellas con mejor puntuación.",
   "metadata": {
    "cell_id": "00010-b63dc39a-45a7-4c8a-a219-426e92072be1",
    "deepnote_cell_type": "markdown"
   }
  },
  {
   "cell_type": "code",
   "metadata": {
    "tags": [],
    "cell_id": "00011-e82afbed-7eb1-4e0a-b76b-6c9e5d5d4849",
    "deepnote_cell_type": "code"
   },
   "source": "",
   "execution_count": null,
   "outputs": []
  },
  {
   "cell_type": "code",
   "metadata": {
    "cell_id": "00012-9adc8141-fa4a-4a03-aaba-528546d8e6a1",
    "deepnote_cell_type": "code"
   },
   "source": "",
   "execution_count": null,
   "outputs": []
  },
  {
   "cell_type": "markdown",
   "source": "## Usando MatPlot",
   "metadata": {
    "cell_id": "00013-d7489de1-8056-4b63-b97b-54cd4f4f1517",
    "deepnote_cell_type": "markdown"
   }
  },
  {
   "cell_type": "code",
   "metadata": {
    "cell_id": "00014-730a057a-3691-4bd7-a4d2-0175a3707348",
    "deepnote_cell_type": "code"
   },
   "source": "import matplotlib.pyplot as plt",
   "execution_count": null,
   "outputs": []
  },
  {
   "cell_type": "code",
   "metadata": {
    "cell_id": "00015-b7faf98e-6300-4db9-acd9-f5a3fcf5a685",
    "deepnote_cell_type": "code"
   },
   "source": "%matplotlib inline",
   "execution_count": null,
   "outputs": []
  },
  {
   "cell_type": "markdown",
   "source": "### Caso 1.\n\nRealizar un gráfico circular, de la cantidad de tipo de habitaciones `room_type`  ",
   "metadata": {
    "cell_id": "00016-7ed40949-bd60-4e55-bd16-9cdfcec119b2",
    "deepnote_cell_type": "markdown"
   }
  },
  {
   "cell_type": "code",
   "metadata": {
    "cell_id": "00017-87b6207d-e5b6-4bdf-8474-5cef37ca5b5b",
    "deepnote_cell_type": "code"
   },
   "source": "",
   "execution_count": null,
   "outputs": []
  },
  {
   "cell_type": "markdown",
   "source": "<a style='text-decoration:none;line-height:16px;display:flex;color:#5B5B62;padding:10px;justify-content:end;' href='https://deepnote.com?utm_source=created-in-deepnote-cell&projectId=ad7c6716-f1ab-4c5a-ae5f-98d40e105581' target=\"_blank\">\n<img alt='Created in deepnote.com' style='display:inline;max-height:16px;margin:0px;margin-right:7.5px;' src='data:image/svg+xml;base64,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' > </img>\nCreated in <span style='font-weight:600;margin-left:4px;'>Deepnote</span></a>",
   "metadata": {
    "tags": [],
    "created_in_deepnote_cell": true,
    "deepnote_cell_type": "markdown"
   }
  }
 ],
 "nbformat": 4,
 "nbformat_minor": 4,
 "metadata": {
  "kernelspec": {
   "display_name": "Python 3 (ipykernel)",
   "language": "python",
   "name": "python3"
  },
  "language_info": {
   "codemirror_mode": {
    "name": "ipython",
    "version": 3
   },
   "file_extension": ".py",
   "mimetype": "text/x-python",
   "name": "python",
   "nbconvert_exporter": "python",
   "pygments_lexer": "ipython3",
   "version": "3.8.8"
  },
  "deepnote_notebook_id": "ebbe587e-96e6-4571-bd41-5cedb53beed9",
  "deepnote": {},
  "deepnote_execution_queue": []
 }
}